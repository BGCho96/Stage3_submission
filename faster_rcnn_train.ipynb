{
 "cells": [
  {
   "cell_type": "code",
   "execution_count": 1,
   "metadata": {},
   "outputs": [
    {
     "name": "stderr",
     "output_type": "stream",
     "text": [
      "\u001b[34m\u001b[1mwandb\u001b[0m: Currently logged in as: \u001b[33mbgcho96\u001b[0m (use `wandb login --relogin` to force relogin)\n"
     ]
    },
    {
     "data": {
      "text/plain": [
       "True"
      ]
     },
     "execution_count": 1,
     "metadata": {},
     "output_type": "execute_result"
    }
   ],
   "source": [
    "import wandb\n",
    "wandb.login()"
   ]
  },
  {
   "cell_type": "code",
   "execution_count": 2,
   "metadata": {
    "pycharm": {
     "name": "#%%\n"
    }
   },
   "outputs": [],
   "source": [
    "from mmcv import Config\n",
    "from mmdet.datasets import build_dataset\n",
    "from mmdet.models import build_detector\n",
    "from mmdet.apis import train_detector\n",
    "from mmdet.datasets import (build_dataloader, build_dataset,\n",
    "                            replace_ImageToTensor)"
   ]
  },
  {
   "cell_type": "code",
   "execution_count": 3,
   "metadata": {
    "pycharm": {
     "name": "#%%\n"
    },
    "tags": []
   },
   "outputs": [
    {
     "name": "stderr",
     "output_type": "stream",
     "text": [
      "2021-05-19 19:14:01,174 - mmdet - INFO - load model from: open-mmlab://resnext101_64x4d\n",
      "2021-05-19 19:14:01,176 - mmdet - INFO - Use load_from_openmmlab loader\n"
     ]
    },
    {
     "name": "stdout",
     "output_type": "stream",
     "text": [
      "loading annotations into memory...\n",
      "Done (t=3.80s)\n",
      "creating index...\n",
      "index created!\n"
     ]
    }
   ],
   "source": [
    "# classes = (\"UNKNOWN\", \"General trash\", \"Paper\", \"Paper pack\", \"Metal\", \"Glass\", \n",
    "#            \"Plastic\", \"Styrofoam\", \"Plastic bag\", \"Battery\", \"Clothing\")\n",
    "# classes = (\"UNKNOWN\", \"Paper pack\", \"Metal\", \"Glass\", \"Styrofoam\", \"Battery\", \"Clothing\")\n",
    "classes = (\"UNKNOWN\",\"General trash\", \"Paper\",\n",
    "           \"Plastic\", \"Plastic bag\")\n",
    "# config file 들고오기\n",
    "cfg = Config.fromfile('./configs/cascade_rcnn/cascade_rcnn_x101_64x4d_fpn_20e_coco.py')\n",
    "\n",
    "PREFIX = '../../input/data/'\n",
    "# for i in range(1,5):\n",
    "# dataset 바꾸기\n",
    "cfg.data.train.classes = classes\n",
    "cfg.data.train.img_prefix = PREFIX\n",
    "cfg.data.train.ann_file = PREFIX + 'train.json'\n",
    "cfg.data.train.pipeline[2]['img_scale'] = (512, 512)\n",
    "\n",
    "cfg.data.val.classes = classes\n",
    "cfg.data.val.img_prefix = PREFIX\n",
    "cfg.data.ann_file = PREFIX + 'val.json'\n",
    "cfg.data.val.pipeline[1]['img_scale'] = (512, 512)\n",
    "\n",
    "cfg.data.test.classes = classes\n",
    "cfg.data.test.img_prefix = PREFIX\n",
    "cfg.data.ann_file = PREFIX + 'test.json'\n",
    "cfg.data.test.pipeline[1]['img_scale'] = (512, 512)\n",
    "\n",
    "cfg.data.samples_per_gpu = 4\n",
    "\n",
    "cfg.seed=2020\n",
    "cfg.gpu_ids = [0]\n",
    "cfg.work_dir = f'./work_dirs/cascade_rcnn_x101_64x4d_fpn_20e_coco_plenty'\n",
    "\n",
    "# cfg.model.roi_head.bbox_head.num_classes = 11\n",
    "\n",
    "cfg.optimizer_config.grad_clip = dict(max_norm=35, norm_type=2)\n",
    "\n",
    "\n",
    "group_name = 'PSTG'; ##그룹이름(run 여러개를 그룹으로 묶어줄 수 있습니다)\n",
    "project_name = 'mmdet'; ##프로젝트 이름\n",
    "run_name = f'4class_plenty5'; ##run 이름\n",
    "config_list = {\n",
    "    'epoch' : cfg.runner.max_epochs,\n",
    "    'batch_size' :  cfg.data.samples_per_gpu,\n",
    "    'optimizer' : cfg.optimizer,\n",
    "    'optimizer_config' : cfg.optimizer_config,\n",
    "    'lr_config' : cfg.lr_config\n",
    "}\n",
    "## 원하는 wandb.init() argument값 추가해주세요\n",
    "cfg.log_config.hooks[1].init_kwargs['group']=group_name   # group name(option)\n",
    "cfg.log_config.hooks[1].init_kwargs['name'] = run_name    # run name\n",
    "cfg.log_config.hooks[1].init_kwargs['config'] = config_list    # config\n",
    "\n",
    "model = build_detector(cfg.model)\n",
    "\n",
    "datasets = [build_dataset(cfg.data.train)]"
   ]
  },
  {
   "cell_type": "code",
   "execution_count": 4,
   "metadata": {
    "pycharm": {
     "name": "#%%\n"
    },
    "tags": []
   },
   "outputs": [
    {
     "name": "stdout",
     "output_type": "stream",
     "text": [
      "loading annotations into memory...\n"
     ]
    },
    {
     "name": "stderr",
     "output_type": "stream",
     "text": [
      "2021-05-19 19:14:10,412 - mmdet - INFO - Start running, host: root@e6ef85cb398c, work_dir: /opt/ml/code/mmdetection_trash/work_dirs/cascade_rcnn_x101_64x4d_fpn_20e_coco_plenty\n",
      "2021-05-19 19:14:10,413 - mmdet - INFO - workflow: [('train', 1)], max: 15 epochs\n"
     ]
    },
    {
     "name": "stdout",
     "output_type": "stream",
     "text": [
      "Done (t=1.37s)\n",
      "creating index...\n",
      "index created!\n"
     ]
    },
    {
     "name": "stderr",
     "output_type": "stream",
     "text": [
      "/opt/ml/code/mmdetection_trash/mmdet/core/evaluation/eval_hooks.py:111: UserWarning: runner.meta is None. Creating a empty one.\n",
      "  warnings.warn('runner.meta is None. Creating a empty one.')\n"
     ]
    },
    {
     "data": {
      "text/html": [
       "\n",
       "                Tracking run with wandb version 0.10.30<br/>\n",
       "                Syncing run <strong style=\"color:#cdcd00\">4class_plenty5</strong> to <a href=\"https://wandb.ai\" target=\"_blank\">Weights & Biases</a> <a href=\"https://docs.wandb.com/integrations/jupyter.html\" target=\"_blank\">(Documentation)</a>.<br/>\n",
       "                Project page: <a href=\"https://wandb.ai/bgcho96/%ED%94%84%EB%A1%9C%EC%A0%9D%ED%8A%B8%20%EC%9D%B4%EB%A6%84%20%EC%95%84%EB%AC%B4%EB%82%98\" target=\"_blank\">https://wandb.ai/bgcho96/%ED%94%84%EB%A1%9C%EC%A0%9D%ED%8A%B8%20%EC%9D%B4%EB%A6%84%20%EC%95%84%EB%AC%B4%EB%82%98</a><br/>\n",
       "                Run page: <a href=\"https://wandb.ai/bgcho96/%ED%94%84%EB%A1%9C%EC%A0%9D%ED%8A%B8%20%EC%9D%B4%EB%A6%84%20%EC%95%84%EB%AC%B4%EB%82%98/runs/28pj7iv1\" target=\"_blank\">https://wandb.ai/bgcho96/%ED%94%84%EB%A1%9C%EC%A0%9D%ED%8A%B8%20%EC%9D%B4%EB%A6%84%20%EC%95%84%EB%AC%B4%EB%82%98/runs/28pj7iv1</a><br/>\n",
       "                Run data is saved locally in <code>/opt/ml/code/mmdetection_trash/wandb/run-20210519_191410-28pj7iv1</code><br/><br/>\n",
       "            "
      ],
      "text/plain": [
       "<IPython.core.display.HTML object>"
      ]
     },
     "metadata": {},
     "output_type": "display_data"
    },
    {
     "name": "stderr",
     "output_type": "stream",
     "text": [
      "2021-05-19 19:15:05,606 - mmdet - INFO - Epoch [1][50/601]\tlr: 1.978e-03, eta: 2:28:52, time: 0.996, data_time: 0.052, memory: 5810, loss_rpn_cls: 0.4912, loss_rpn_bbox: 0.0627, s0.loss_cls: 0.6560, s0.acc: 83.2383, s0.loss_bbox: 0.1520, s1.loss_cls: 0.2193, s1.acc: 94.8057, s1.loss_bbox: 0.0427, s2.loss_cls: 0.1182, s2.acc: 89.4990, s2.loss_bbox: 0.0060, loss: 1.7481, grad_norm: 8.5658\n",
      "2021-05-19 19:15:53,453 - mmdet - INFO - Epoch [1][100/601]\tlr: 3.976e-03, eta: 2:25:07, time: 0.957, data_time: 0.008, memory: 5810, loss_rpn_cls: 0.2005, loss_rpn_bbox: 0.0560, s0.loss_cls: 0.3807, s0.acc: 90.3633, s0.loss_bbox: 0.2297, s1.loss_cls: 0.1078, s1.acc: 95.7793, s1.loss_bbox: 0.0682, s2.loss_cls: 0.0328, s2.acc: 97.8936, s2.loss_bbox: 0.0097, loss: 1.0855, grad_norm: 3.6942\n",
      "2021-05-19 19:16:41,021 - mmdet - INFO - Epoch [1][150/601]\tlr: 5.974e-03, eta: 2:23:03, time: 0.951, data_time: 0.008, memory: 5810, loss_rpn_cls: 0.1980, loss_rpn_bbox: 0.0591, s0.loss_cls: 0.4106, s0.acc: 88.9404, s0.loss_bbox: 0.2611, s1.loss_cls: 0.1247, s1.acc: 94.6621, s1.loss_bbox: 0.0886, s2.loss_cls: 0.0370, s2.acc: 97.4355, s2.loss_bbox: 0.0130, loss: 1.1922, grad_norm: 4.2685\n",
      "2021-05-19 19:17:28,440 - mmdet - INFO - Epoch [1][200/601]\tlr: 7.972e-03, eta: 2:21:31, time: 0.948, data_time: 0.008, memory: 5810, loss_rpn_cls: 0.1590, loss_rpn_bbox: 0.0538, s0.loss_cls: 0.4143, s0.acc: 88.5020, s0.loss_bbox: 0.2607, s1.loss_cls: 0.1329, s1.acc: 93.6104, s1.loss_bbox: 0.1097, s2.loss_cls: 0.0413, s2.acc: 96.9756, s2.loss_bbox: 0.0190, loss: 1.1908, grad_norm: 4.2934\n",
      "2021-05-19 19:18:15,893 - mmdet - INFO - Epoch [1][250/601]\tlr: 9.970e-03, eta: 2:20:18, time: 0.949, data_time: 0.007, memory: 5810, loss_rpn_cls: 0.1723, loss_rpn_bbox: 0.0691, s0.loss_cls: 0.4433, s0.acc: 88.2734, s0.loss_bbox: 0.2623, s1.loss_cls: 0.1538, s1.acc: 92.1318, s1.loss_bbox: 0.1375, s2.loss_cls: 0.0519, s2.acc: 95.5771, s2.loss_bbox: 0.0312, loss: 1.3213, grad_norm: 5.0508\n",
      "2021-05-19 19:19:03,048 - mmdet - INFO - Epoch [1][300/601]\tlr: 1.197e-02, eta: 2:19:04, time: 0.943, data_time: 0.007, memory: 5810, loss_rpn_cls: 0.1722, loss_rpn_bbox: 0.0687, s0.loss_cls: 0.4328, s0.acc: 88.5215, s0.loss_bbox: 0.2435, s1.loss_cls: 0.1620, s1.acc: 91.5732, s1.loss_bbox: 0.1442, s2.loss_cls: 0.0551, s2.acc: 95.0674, s2.loss_bbox: 0.0372, loss: 1.3157, grad_norm: 4.9220\n",
      "2021-05-19 19:19:50,663 - mmdet - INFO - Epoch [1][350/601]\tlr: 1.397e-02, eta: 2:18:10, time: 0.952, data_time: 0.007, memory: 5810, loss_rpn_cls: 0.1804, loss_rpn_bbox: 0.0629, s0.loss_cls: 0.4356, s0.acc: 88.2148, s0.loss_bbox: 0.2495, s1.loss_cls: 0.1732, s1.acc: 90.5889, s1.loss_bbox: 0.1593, s2.loss_cls: 0.0622, s2.acc: 93.6992, s2.loss_bbox: 0.0506, loss: 1.3737, grad_norm: 4.4443\n",
      "2021-05-19 19:20:38,184 - mmdet - INFO - Epoch [1][400/601]\tlr: 1.596e-02, eta: 2:17:15, time: 0.950, data_time: 0.007, memory: 5810, loss_rpn_cls: 0.1409, loss_rpn_bbox: 0.0572, s0.loss_cls: 0.3960, s0.acc: 89.5117, s0.loss_bbox: 0.2144, s1.loss_cls: 0.1561, s1.acc: 91.8105, s1.loss_bbox: 0.1385, s2.loss_cls: 0.0562, s2.acc: 94.3936, s2.loss_bbox: 0.0474, loss: 1.2067, grad_norm: 3.5313\n",
      "2021-05-19 19:21:25,283 - mmdet - INFO - Epoch [1][450/601]\tlr: 1.796e-02, eta: 2:16:14, time: 0.942, data_time: 0.007, memory: 5810, loss_rpn_cls: 0.1352, loss_rpn_bbox: 0.0629, s0.loss_cls: 0.3661, s0.acc: 89.8555, s0.loss_bbox: 0.2023, s1.loss_cls: 0.1512, s1.acc: 91.6657, s1.loss_bbox: 0.1437, s2.loss_cls: 0.0578, s2.acc: 93.7606, s2.loss_bbox: 0.0533, loss: 1.1725, grad_norm: 3.2173\n",
      "2021-05-19 19:22:12,609 - mmdet - INFO - Epoch [1][500/601]\tlr: 1.996e-02, eta: 2:15:20, time: 0.946, data_time: 0.008, memory: 5810, loss_rpn_cls: 0.1369, loss_rpn_bbox: 0.0578, s0.loss_cls: 0.3978, s0.acc: 88.6133, s0.loss_bbox: 0.2308, s1.loss_cls: 0.1657, s1.acc: 90.2973, s1.loss_bbox: 0.1714, s2.loss_cls: 0.0648, s2.acc: 92.7372, s2.loss_bbox: 0.0670, loss: 1.2923, grad_norm: 3.2956\n",
      "2021-05-19 19:22:59,643 - mmdet - INFO - Epoch [1][550/601]\tlr: 2.000e-02, eta: 2:14:22, time: 0.941, data_time: 0.007, memory: 5810, loss_rpn_cls: 0.1455, loss_rpn_bbox: 0.0619, s0.loss_cls: 0.3923, s0.acc: 88.8643, s0.loss_bbox: 0.2146, s1.loss_cls: 0.1660, s1.acc: 90.5222, s1.loss_bbox: 0.1616, s2.loss_cls: 0.0650, s2.acc: 92.7398, s2.loss_bbox: 0.0654, loss: 1.2723, grad_norm: 2.9979\n",
      "2021-05-19 19:23:47,097 - mmdet - INFO - Epoch [1][600/601]\tlr: 2.000e-02, eta: 2:13:32, time: 0.949, data_time: 0.007, memory: 5810, loss_rpn_cls: 0.1360, loss_rpn_bbox: 0.0502, s0.loss_cls: 0.3844, s0.acc: 89.2363, s0.loss_bbox: 0.1909, s1.loss_cls: 0.1664, s1.acc: 90.4247, s1.loss_bbox: 0.1505, s2.loss_cls: 0.0663, s2.acc: 92.4383, s2.loss_bbox: 0.0680, loss: 1.2126, grad_norm: 3.3105\n",
      "2021-05-19 19:23:48,165 - mmdet - INFO - Saving checkpoint at 1 epochs\n"
     ]
    },
    {
     "name": "stdout",
     "output_type": "stream",
     "text": [
      "[>>>>>>>>>>>>>>>>>>>>>>>>>>>>>>] 655/655, 7.9 task/s, elapsed: 82s, ETA:     0s"
     ]
    },
    {
     "name": "stderr",
     "output_type": "stream",
     "text": [
      "2021-05-19 19:25:13,825 - mmdet - INFO - Evaluating bbox...\n"
     ]
    },
    {
     "name": "stdout",
     "output_type": "stream",
     "text": [
      "Loading and preparing results...\n",
      "DONE (t=0.59s)\n",
      "creating index...\n",
      "index created!\n",
      "Running per image evaluation...\n",
      "Evaluate annotation type *bbox*\n",
      "DONE (t=3.08s).\n",
      "Accumulating evaluation results...\n"
     ]
    },
    {
     "name": "stderr",
     "output_type": "stream",
     "text": [
      "2021-05-19 19:25:18,076 - mmdet - INFO - Now best checkpoint is epoch_1.pth.Best bbox_mAP_50 is 0.1260\n",
      "2021-05-19 19:25:18,081 - mmdet - INFO - Epoch(val) [1][601]\tbbox_mAP: 0.0670, bbox_mAP_50: 0.1260, bbox_mAP_75: 0.0640, bbox_mAP_s: 0.0090, bbox_mAP_m: 0.0590, bbox_mAP_l: 0.1290, bbox_mAP_copypaste: 0.067 0.126 0.064 0.009 0.059 0.129\n"
     ]
    },
    {
     "name": "stdout",
     "output_type": "stream",
     "text": [
      "DONE (t=0.52s).\n",
      "Average Precision  (AP) @[ IoU=0.50:0.95 | area=   all | maxDets=100 ] = 0.067\n",
      "Average Precision  (AP) @[ IoU=0.50      | area=   all | maxDets=1000 ] = 0.126\n",
      "Average Precision  (AP) @[ IoU=0.75      | area=   all | maxDets=1000 ] = 0.064\n",
      "Average Precision  (AP) @[ IoU=0.50:0.95 | area= small | maxDets=1000 ] = 0.009\n",
      "Average Precision  (AP) @[ IoU=0.50:0.95 | area=medium | maxDets=1000 ] = 0.059\n",
      "Average Precision  (AP) @[ IoU=0.50:0.95 | area= large | maxDets=1000 ] = 0.129\n",
      "Average Recall     (AR) @[ IoU=0.50:0.95 | area=   all | maxDets=100 ] = 0.142\n",
      "Average Recall     (AR) @[ IoU=0.50:0.95 | area=   all | maxDets=300 ] = 0.142\n",
      "Average Recall     (AR) @[ IoU=0.50:0.95 | area=   all | maxDets=1000 ] = 0.142\n",
      "Average Recall     (AR) @[ IoU=0.50:0.95 | area= small | maxDets=1000 ] = 0.014\n",
      "Average Recall     (AR) @[ IoU=0.50:0.95 | area=medium | maxDets=1000 ] = 0.113\n",
      "Average Recall     (AR) @[ IoU=0.50:0.95 | area= large | maxDets=1000 ] = 0.328\n"
     ]
    },
    {
     "name": "stderr",
     "output_type": "stream",
     "text": [
      "2021-05-19 19:26:08,074 - mmdet - INFO - Epoch [2][50/601]\tlr: 2.000e-02, eta: 2:13:02, time: 1.000, data_time: 0.053, memory: 5810, loss_rpn_cls: 0.1159, loss_rpn_bbox: 0.0464, s0.loss_cls: 0.3557, s0.acc: 89.7480, s0.loss_bbox: 0.1903, s1.loss_cls: 0.1549, s1.acc: 90.9676, s1.loss_bbox: 0.1530, s2.loss_cls: 0.0627, s2.acc: 92.9360, s2.loss_bbox: 0.0686, loss: 1.1475, grad_norm: 2.8358\n",
      "2021-05-19 19:26:55,217 - mmdet - INFO - Epoch [2][100/601]\tlr: 2.000e-02, eta: 2:12:07, time: 0.943, data_time: 0.008, memory: 5810, loss_rpn_cls: 0.1168, loss_rpn_bbox: 0.0540, s0.loss_cls: 0.3613, s0.acc: 89.6367, s0.loss_bbox: 0.1866, s1.loss_cls: 0.1622, s1.acc: 90.5129, s1.loss_bbox: 0.1560, s2.loss_cls: 0.0677, s2.acc: 91.9561, s2.loss_bbox: 0.0742, loss: 1.1788, grad_norm: 2.9535\n",
      "2021-05-19 19:27:42,491 - mmdet - INFO - Epoch [2][150/601]\tlr: 2.000e-02, eta: 2:11:15, time: 0.945, data_time: 0.008, memory: 5810, loss_rpn_cls: 0.1085, loss_rpn_bbox: 0.0453, s0.loss_cls: 0.3569, s0.acc: 90.0215, s0.loss_bbox: 0.1762, s1.loss_cls: 0.1558, s1.acc: 91.0337, s1.loss_bbox: 0.1383, s2.loss_cls: 0.0630, s2.acc: 92.6612, s2.loss_bbox: 0.0622, loss: 1.1063, grad_norm: 2.6152\n",
      "2021-05-19 19:28:29,671 - mmdet - INFO - Epoch [2][200/601]\tlr: 2.000e-02, eta: 2:10:23, time: 0.944, data_time: 0.007, memory: 5810, loss_rpn_cls: 0.1037, loss_rpn_bbox: 0.0512, s0.loss_cls: 0.3604, s0.acc: 89.5000, s0.loss_bbox: 0.1828, s1.loss_cls: 0.1629, s1.acc: 90.3060, s1.loss_bbox: 0.1545, s2.loss_cls: 0.0680, s2.acc: 92.0046, s2.loss_bbox: 0.0704, loss: 1.1540, grad_norm: 2.7949\n",
      "2021-05-19 19:29:16,993 - mmdet - INFO - Epoch [2][250/601]\tlr: 2.000e-02, eta: 2:09:32, time: 0.946, data_time: 0.007, memory: 5810, loss_rpn_cls: 0.1209, loss_rpn_bbox: 0.0546, s0.loss_cls: 0.3588, s0.acc: 89.2363, s0.loss_bbox: 0.1921, s1.loss_cls: 0.1615, s1.acc: 90.2470, s1.loss_bbox: 0.1584, s2.loss_cls: 0.0670, s2.acc: 91.9881, s2.loss_bbox: 0.0735, loss: 1.1869, grad_norm: 2.8064\n",
      "2021-05-19 19:30:04,441 - mmdet - INFO - Epoch [2][300/601]\tlr: 2.000e-02, eta: 2:08:43, time: 0.949, data_time: 0.007, memory: 5810, loss_rpn_cls: 0.1139, loss_rpn_bbox: 0.0500, s0.loss_cls: 0.3509, s0.acc: 89.8359, s0.loss_bbox: 0.1782, s1.loss_cls: 0.1596, s1.acc: 90.5665, s1.loss_bbox: 0.1523, s2.loss_cls: 0.0683, s2.acc: 91.8769, s2.loss_bbox: 0.0739, loss: 1.1472, grad_norm: 2.8304\n",
      "2021-05-19 19:30:51,367 - mmdet - INFO - Epoch [2][350/601]\tlr: 2.000e-02, eta: 2:07:50, time: 0.939, data_time: 0.007, memory: 5810, loss_rpn_cls: 0.1172, loss_rpn_bbox: 0.0566, s0.loss_cls: 0.3759, s0.acc: 88.7881, s0.loss_bbox: 0.2058, s1.loss_cls: 0.1700, s1.acc: 89.7504, s1.loss_bbox: 0.1692, s2.loss_cls: 0.0712, s2.acc: 91.3976, s2.loss_bbox: 0.0780, loss: 1.2439, grad_norm: 2.9052\n",
      "2021-05-19 19:31:38,274 - mmdet - INFO - Epoch [2][400/601]\tlr: 2.000e-02, eta: 2:06:57, time: 0.938, data_time: 0.008, memory: 5810, loss_rpn_cls: 0.1057, loss_rpn_bbox: 0.0544, s0.loss_cls: 0.3571, s0.acc: 89.3076, s0.loss_bbox: 0.1894, s1.loss_cls: 0.1642, s1.acc: 90.1346, s1.loss_bbox: 0.1601, s2.loss_cls: 0.0705, s2.acc: 91.6363, s2.loss_bbox: 0.0785, loss: 1.1797, grad_norm: 2.7711\n",
      "2021-05-19 19:32:25,864 - mmdet - INFO - Epoch [2][450/601]\tlr: 2.000e-02, eta: 2:06:10, time: 0.952, data_time: 0.007, memory: 5810, loss_rpn_cls: 0.1005, loss_rpn_bbox: 0.0516, s0.loss_cls: 0.3407, s0.acc: 89.5508, s0.loss_bbox: 0.1836, s1.loss_cls: 0.1582, s1.acc: 90.1783, s1.loss_bbox: 0.1619, s2.loss_cls: 0.0696, s2.acc: 91.4237, s2.loss_bbox: 0.0808, loss: 1.1468, grad_norm: 2.8035\n",
      "2021-05-19 19:33:13,069 - mmdet - INFO - Epoch [2][500/601]\tlr: 2.000e-02, eta: 2:05:20, time: 0.944, data_time: 0.007, memory: 5810, loss_rpn_cls: 0.1084, loss_rpn_bbox: 0.0498, s0.loss_cls: 0.3458, s0.acc: 89.6162, s0.loss_bbox: 0.1800, s1.loss_cls: 0.1593, s1.acc: 90.1974, s1.loss_bbox: 0.1512, s2.loss_cls: 0.0680, s2.acc: 91.7954, s2.loss_bbox: 0.0722, loss: 1.1347, grad_norm: 2.8023\n",
      "2021-05-19 19:34:00,134 - mmdet - INFO - Epoch [2][550/601]\tlr: 2.000e-02, eta: 2:04:30, time: 0.941, data_time: 0.007, memory: 5810, loss_rpn_cls: 0.0985, loss_rpn_bbox: 0.0488, s0.loss_cls: 0.3535, s0.acc: 89.3008, s0.loss_bbox: 0.1860, s1.loss_cls: 0.1652, s1.acc: 89.7995, s1.loss_bbox: 0.1585, s2.loss_cls: 0.0717, s2.acc: 91.3130, s2.loss_bbox: 0.0772, loss: 1.1594, grad_norm: 2.7280\n",
      "2021-05-19 19:34:47,635 - mmdet - INFO - Epoch [2][600/601]\tlr: 2.000e-02, eta: 2:03:42, time: 0.950, data_time: 0.008, memory: 5810, loss_rpn_cls: 0.0831, loss_rpn_bbox: 0.0437, s0.loss_cls: 0.3153, s0.acc: 90.6963, s0.loss_bbox: 0.1543, s1.loss_cls: 0.1443, s1.acc: 91.2340, s1.loss_bbox: 0.1380, s2.loss_cls: 0.0635, s2.acc: 92.2108, s2.loss_bbox: 0.0723, loss: 1.0146, grad_norm: 2.7623\n",
      "2021-05-19 19:34:48,707 - mmdet - INFO - Saving checkpoint at 2 epochs\n"
     ]
    },
    {
     "name": "stdout",
     "output_type": "stream",
     "text": [
      "[>>>>>>>>>>>>>>>>>>>>>>>>>>>>>>] 655/655, 8.0 task/s, elapsed: 82s, ETA:     0s"
     ]
    },
    {
     "name": "stderr",
     "output_type": "stream",
     "text": [
      "2021-05-19 19:36:14,640 - mmdet - INFO - Evaluating bbox...\n"
     ]
    },
    {
     "name": "stdout",
     "output_type": "stream",
     "text": [
      "Loading and preparing results...\n",
      "DONE (t=0.68s)\n",
      "creating index...\n",
      "index created!\n",
      "Running per image evaluation...\n",
      "Evaluate annotation type *bbox*\n",
      "DONE (t=6.41s).\n",
      "Accumulating evaluation results...\n"
     ]
    },
    {
     "name": "stderr",
     "output_type": "stream",
     "text": [
      "2021-05-19 19:36:22,905 - mmdet - INFO - Now best checkpoint is epoch_2.pth.Best bbox_mAP_50 is 0.2090\n",
      "2021-05-19 19:36:22,910 - mmdet - INFO - Epoch(val) [2][601]\tbbox_mAP: 0.1210, bbox_mAP_50: 0.2090, bbox_mAP_75: 0.1260, bbox_mAP_s: 0.0310, bbox_mAP_m: 0.1060, bbox_mAP_l: 0.2130, bbox_mAP_copypaste: 0.121 0.209 0.126 0.031 0.106 0.213\n"
     ]
    },
    {
     "name": "stdout",
     "output_type": "stream",
     "text": [
      "DONE (t=1.08s).\n",
      "Average Precision  (AP) @[ IoU=0.50:0.95 | area=   all | maxDets=100 ] = 0.121\n",
      "Average Precision  (AP) @[ IoU=0.50      | area=   all | maxDets=1000 ] = 0.209\n",
      "Average Precision  (AP) @[ IoU=0.75      | area=   all | maxDets=1000 ] = 0.126\n",
      "Average Precision  (AP) @[ IoU=0.50:0.95 | area= small | maxDets=1000 ] = 0.031\n",
      "Average Precision  (AP) @[ IoU=0.50:0.95 | area=medium | maxDets=1000 ] = 0.106\n",
      "Average Precision  (AP) @[ IoU=0.50:0.95 | area= large | maxDets=1000 ] = 0.213\n",
      "Average Recall     (AR) @[ IoU=0.50:0.95 | area=   all | maxDets=100 ] = 0.253\n",
      "Average Recall     (AR) @[ IoU=0.50:0.95 | area=   all | maxDets=300 ] = 0.253\n",
      "Average Recall     (AR) @[ IoU=0.50:0.95 | area=   all | maxDets=1000 ] = 0.253\n",
      "Average Recall     (AR) @[ IoU=0.50:0.95 | area= small | maxDets=1000 ] = 0.096\n",
      "Average Recall     (AR) @[ IoU=0.50:0.95 | area=medium | maxDets=1000 ] = 0.252\n",
      "Average Recall     (AR) @[ IoU=0.50:0.95 | area= large | maxDets=1000 ] = 0.426\n"
     ]
    },
    {
     "name": "stderr",
     "output_type": "stream",
     "text": [
      "2021-05-19 19:37:13,027 - mmdet - INFO - Epoch [3][50/601]\tlr: 2.000e-02, eta: 2:03:04, time: 1.002, data_time: 0.053, memory: 5810, loss_rpn_cls: 0.0943, loss_rpn_bbox: 0.0475, s0.loss_cls: 0.3143, s0.acc: 90.2617, s0.loss_bbox: 0.1541, s1.loss_cls: 0.1491, s1.acc: 90.6865, s1.loss_bbox: 0.1357, s2.loss_cls: 0.0664, s2.acc: 91.7514, s2.loss_bbox: 0.0730, loss: 1.0345, grad_norm: 2.8907\n",
      "2021-05-19 19:38:00,087 - mmdet - INFO - Epoch [3][100/601]\tlr: 2.000e-02, eta: 2:02:13, time: 0.941, data_time: 0.008, memory: 5810, loss_rpn_cls: 0.0928, loss_rpn_bbox: 0.0505, s0.loss_cls: 0.3558, s0.acc: 89.0576, s0.loss_bbox: 0.1826, s1.loss_cls: 0.1688, s1.acc: 89.5493, s1.loss_bbox: 0.1558, s2.loss_cls: 0.0748, s2.acc: 90.8386, s2.loss_bbox: 0.0764, loss: 1.1575, grad_norm: 2.8660\n",
      "2021-05-19 19:38:47,406 - mmdet - INFO - Epoch [3][150/601]\tlr: 2.000e-02, eta: 2:01:25, time: 0.946, data_time: 0.008, memory: 5810, loss_rpn_cls: 0.1034, loss_rpn_bbox: 0.0421, s0.loss_cls: 0.3490, s0.acc: 89.6982, s0.loss_bbox: 0.1691, s1.loss_cls: 0.1643, s1.acc: 90.1855, s1.loss_bbox: 0.1456, s2.loss_cls: 0.0713, s2.acc: 91.4815, s2.loss_bbox: 0.0731, loss: 1.1179, grad_norm: 3.0086\n",
      "2021-05-19 19:39:34,554 - mmdet - INFO - Epoch [3][200/601]\tlr: 2.000e-02, eta: 2:00:35, time: 0.943, data_time: 0.008, memory: 5810, loss_rpn_cls: 0.0764, loss_rpn_bbox: 0.0383, s0.loss_cls: 0.2840, s0.acc: 91.4297, s0.loss_bbox: 0.1440, s1.loss_cls: 0.1335, s1.acc: 91.7095, s1.loss_bbox: 0.1308, s2.loss_cls: 0.0603, s2.acc: 92.4411, s2.loss_bbox: 0.0709, loss: 0.9382, grad_norm: 2.6792\n",
      "2021-05-19 19:40:22,059 - mmdet - INFO - Epoch [3][250/601]\tlr: 2.000e-02, eta: 1:59:47, time: 0.950, data_time: 0.008, memory: 5810, loss_rpn_cls: 0.0886, loss_rpn_bbox: 0.0466, s0.loss_cls: 0.3630, s0.acc: 88.8828, s0.loss_bbox: 0.1821, s1.loss_cls: 0.1706, s1.acc: 89.4131, s1.loss_bbox: 0.1595, s2.loss_cls: 0.0750, s2.acc: 90.9342, s2.loss_bbox: 0.0823, loss: 1.1677, grad_norm: 2.8491\n",
      "2021-05-19 19:41:09,264 - mmdet - INFO - Epoch [3][300/601]\tlr: 2.000e-02, eta: 1:58:58, time: 0.944, data_time: 0.008, memory: 5810, loss_rpn_cls: 0.0889, loss_rpn_bbox: 0.0440, s0.loss_cls: 0.3484, s0.acc: 89.4688, s0.loss_bbox: 0.1753, s1.loss_cls: 0.1614, s1.acc: 90.0810, s1.loss_bbox: 0.1523, s2.loss_cls: 0.0711, s2.acc: 91.2685, s2.loss_bbox: 0.0766, loss: 1.1180, grad_norm: 2.8280\n",
      "2021-05-19 19:41:56,644 - mmdet - INFO - Epoch [3][350/601]\tlr: 2.000e-02, eta: 1:58:10, time: 0.948, data_time: 0.008, memory: 5810, loss_rpn_cls: 0.0793, loss_rpn_bbox: 0.0404, s0.loss_cls: 0.3195, s0.acc: 89.9561, s0.loss_bbox: 0.1649, s1.loss_cls: 0.1522, s1.acc: 90.3586, s1.loss_bbox: 0.1497, s2.loss_cls: 0.0693, s2.acc: 91.0848, s2.loss_bbox: 0.0793, loss: 1.0546, grad_norm: 2.9340\n",
      "2021-05-19 19:42:44,027 - mmdet - INFO - Epoch [3][400/601]\tlr: 2.000e-02, eta: 1:57:22, time: 0.948, data_time: 0.008, memory: 5810, loss_rpn_cls: 0.0891, loss_rpn_bbox: 0.0400, s0.loss_cls: 0.3320, s0.acc: 89.6279, s0.loss_bbox: 0.1642, s1.loss_cls: 0.1558, s1.acc: 90.0114, s1.loss_bbox: 0.1448, s2.loss_cls: 0.0701, s2.acc: 90.9112, s2.loss_bbox: 0.0754, loss: 1.0714, grad_norm: 2.7094\n",
      "2021-05-19 19:43:31,477 - mmdet - INFO - Epoch [3][450/601]\tlr: 2.000e-02, eta: 1:56:34, time: 0.949, data_time: 0.007, memory: 5810, loss_rpn_cls: 0.0985, loss_rpn_bbox: 0.0495, s0.loss_cls: 0.3052, s0.acc: 90.4639, s0.loss_bbox: 0.1569, s1.loss_cls: 0.1451, s1.acc: 90.8827, s1.loss_bbox: 0.1335, s2.loss_cls: 0.0664, s2.acc: 91.5551, s2.loss_bbox: 0.0676, loss: 1.0226, grad_norm: 2.8142\n",
      "2021-05-19 19:44:18,575 - mmdet - INFO - Epoch [3][500/601]\tlr: 2.000e-02, eta: 1:55:45, time: 0.942, data_time: 0.008, memory: 5810, loss_rpn_cls: 0.0895, loss_rpn_bbox: 0.0494, s0.loss_cls: 0.3309, s0.acc: 89.7002, s0.loss_bbox: 0.1692, s1.loss_cls: 0.1551, s1.acc: 90.0755, s1.loss_bbox: 0.1449, s2.loss_cls: 0.0710, s2.acc: 91.0392, s2.loss_bbox: 0.0746, loss: 1.0845, grad_norm: 2.7404\n",
      "2021-05-19 19:45:05,897 - mmdet - INFO - Epoch [3][550/601]\tlr: 2.000e-02, eta: 1:54:57, time: 0.946, data_time: 0.007, memory: 5810, loss_rpn_cls: 0.0870, loss_rpn_bbox: 0.0494, s0.loss_cls: 0.3184, s0.acc: 90.3125, s0.loss_bbox: 0.1569, s1.loss_cls: 0.1481, s1.acc: 90.7431, s1.loss_bbox: 0.1326, s2.loss_cls: 0.0668, s2.acc: 91.7196, s2.loss_bbox: 0.0689, loss: 1.0281, grad_norm: 2.7858\n",
      "2021-05-19 19:45:52,988 - mmdet - INFO - Epoch [3][600/601]\tlr: 2.000e-02, eta: 1:54:08, time: 0.942, data_time: 0.007, memory: 5810, loss_rpn_cls: 0.0855, loss_rpn_bbox: 0.0436, s0.loss_cls: 0.3312, s0.acc: 89.9551, s0.loss_bbox: 0.1624, s1.loss_cls: 0.1571, s1.acc: 90.2955, s1.loss_bbox: 0.1436, s2.loss_cls: 0.0694, s2.acc: 91.3457, s2.loss_bbox: 0.0747, loss: 1.0675, grad_norm: 2.6478\n",
      "2021-05-19 19:45:54,066 - mmdet - INFO - Saving checkpoint at 3 epochs\n"
     ]
    },
    {
     "name": "stdout",
     "output_type": "stream",
     "text": [
      "[>>>>>>>>>>>>>>>>>>>>>>>>>>>>>>] 655/655, 8.0 task/s, elapsed: 82s, ETA:     0s"
     ]
    },
    {
     "name": "stderr",
     "output_type": "stream",
     "text": [
      "2021-05-19 19:47:19,430 - mmdet - INFO - Evaluating bbox...\n"
     ]
    },
    {
     "name": "stdout",
     "output_type": "stream",
     "text": [
      "Loading and preparing results...\n",
      "DONE (t=0.60s)\n",
      "creating index...\n",
      "index created!\n",
      "Running per image evaluation...\n",
      "Evaluate annotation type *bbox*\n",
      "DONE (t=5.44s).\n",
      "Accumulating evaluation results...\n"
     ]
    },
    {
     "name": "stderr",
     "output_type": "stream",
     "text": [
      "2021-05-19 19:47:26,264 - mmdet - INFO - Now best checkpoint is epoch_3.pth.Best bbox_mAP_50 is 0.2390\n",
      "2021-05-19 19:47:26,270 - mmdet - INFO - Epoch(val) [3][601]\tbbox_mAP: 0.1400, bbox_mAP_50: 0.2390, bbox_mAP_75: 0.1530, bbox_mAP_s: 0.0260, bbox_mAP_m: 0.1260, bbox_mAP_l: 0.2680, bbox_mAP_copypaste: 0.140 0.239 0.153 0.026 0.126 0.268\n"
     ]
    },
    {
     "name": "stdout",
     "output_type": "stream",
     "text": [
      "DONE (t=0.72s).\n",
      "Average Precision  (AP) @[ IoU=0.50:0.95 | area=   all | maxDets=100 ] = 0.140\n",
      "Average Precision  (AP) @[ IoU=0.50      | area=   all | maxDets=1000 ] = 0.239\n",
      "Average Precision  (AP) @[ IoU=0.75      | area=   all | maxDets=1000 ] = 0.153\n",
      "Average Precision  (AP) @[ IoU=0.50:0.95 | area= small | maxDets=1000 ] = 0.026\n",
      "Average Precision  (AP) @[ IoU=0.50:0.95 | area=medium | maxDets=1000 ] = 0.126\n",
      "Average Precision  (AP) @[ IoU=0.50:0.95 | area= large | maxDets=1000 ] = 0.268\n",
      "Average Recall     (AR) @[ IoU=0.50:0.95 | area=   all | maxDets=100 ] = 0.250\n",
      "Average Recall     (AR) @[ IoU=0.50:0.95 | area=   all | maxDets=300 ] = 0.250\n",
      "Average Recall     (AR) @[ IoU=0.50:0.95 | area=   all | maxDets=1000 ] = 0.250\n",
      "Average Recall     (AR) @[ IoU=0.50:0.95 | area= small | maxDets=1000 ] = 0.090\n",
      "Average Recall     (AR) @[ IoU=0.50:0.95 | area=medium | maxDets=1000 ] = 0.232\n",
      "Average Recall     (AR) @[ IoU=0.50:0.95 | area= large | maxDets=1000 ] = 0.467\n"
     ]
    },
    {
     "name": "stderr",
     "output_type": "stream",
     "text": [
      "2021-05-19 19:48:16,099 - mmdet - INFO - Epoch [4][50/601]\tlr: 2.000e-02, eta: 1:53:25, time: 0.996, data_time: 0.053, memory: 5810, loss_rpn_cls: 0.0824, loss_rpn_bbox: 0.0423, s0.loss_cls: 0.3079, s0.acc: 90.2129, s0.loss_bbox: 0.1571, s1.loss_cls: 0.1462, s1.acc: 90.5893, s1.loss_bbox: 0.1421, s2.loss_cls: 0.0673, s2.acc: 91.2654, s2.loss_bbox: 0.0778, loss: 1.0232, grad_norm: 2.8250\n",
      "2021-05-19 19:49:03,555 - mmdet - INFO - Epoch [4][100/601]\tlr: 2.000e-02, eta: 1:52:37, time: 0.949, data_time: 0.007, memory: 5810, loss_rpn_cls: 0.0698, loss_rpn_bbox: 0.0387, s0.loss_cls: 0.3149, s0.acc: 90.0195, s0.loss_bbox: 0.1530, s1.loss_cls: 0.1485, s1.acc: 90.5009, s1.loss_bbox: 0.1346, s2.loss_cls: 0.0676, s2.acc: 91.1134, s2.loss_bbox: 0.0724, loss: 0.9995, grad_norm: 2.8514\n",
      "2021-05-19 19:49:50,981 - mmdet - INFO - Epoch [4][150/601]\tlr: 2.000e-02, eta: 1:51:49, time: 0.949, data_time: 0.008, memory: 5810, loss_rpn_cls: 0.0664, loss_rpn_bbox: 0.0463, s0.loss_cls: 0.3216, s0.acc: 89.9482, s0.loss_bbox: 0.1637, s1.loss_cls: 0.1521, s1.acc: 90.3436, s1.loss_bbox: 0.1433, s2.loss_cls: 0.0698, s2.acc: 91.0631, s2.loss_bbox: 0.0751, loss: 1.0384, grad_norm: 3.0902\n",
      "2021-05-19 19:50:38,414 - mmdet - INFO - Epoch [4][200/601]\tlr: 2.000e-02, eta: 1:51:02, time: 0.949, data_time: 0.008, memory: 5810, loss_rpn_cls: 0.0824, loss_rpn_bbox: 0.0432, s0.loss_cls: 0.3144, s0.acc: 90.4277, s0.loss_bbox: 0.1588, s1.loss_cls: 0.1479, s1.acc: 90.9422, s1.loss_bbox: 0.1359, s2.loss_cls: 0.0677, s2.acc: 91.8513, s2.loss_bbox: 0.0750, loss: 1.0254, grad_norm: 2.8470\n",
      "2021-05-19 19:51:25,659 - mmdet - INFO - Epoch [4][250/601]\tlr: 2.000e-02, eta: 1:50:13, time: 0.945, data_time: 0.008, memory: 5810, loss_rpn_cls: 0.0748, loss_rpn_bbox: 0.0406, s0.loss_cls: 0.3136, s0.acc: 90.3281, s0.loss_bbox: 0.1501, s1.loss_cls: 0.1473, s1.acc: 90.8660, s1.loss_bbox: 0.1299, s2.loss_cls: 0.0669, s2.acc: 91.7358, s2.loss_bbox: 0.0700, loss: 0.9933, grad_norm: 2.7278\n",
      "2021-05-19 19:52:12,959 - mmdet - INFO - Epoch [4][300/601]\tlr: 2.000e-02, eta: 1:49:25, time: 0.946, data_time: 0.007, memory: 5810, loss_rpn_cls: 0.0765, loss_rpn_bbox: 0.0447, s0.loss_cls: 0.2924, s0.acc: 90.7080, s0.loss_bbox: 0.1571, s1.loss_cls: 0.1369, s1.acc: 91.1748, s1.loss_bbox: 0.1400, s2.loss_cls: 0.0638, s2.acc: 91.6248, s2.loss_bbox: 0.0729, loss: 0.9842, grad_norm: 2.7509\n",
      "2021-05-19 19:52:59,995 - mmdet - INFO - Epoch [4][350/601]\tlr: 2.000e-02, eta: 1:48:36, time: 0.941, data_time: 0.007, memory: 5810, loss_rpn_cls: 0.0856, loss_rpn_bbox: 0.0461, s0.loss_cls: 0.3179, s0.acc: 90.0840, s0.loss_bbox: 0.1577, s1.loss_cls: 0.1533, s1.acc: 90.3524, s1.loss_bbox: 0.1439, s2.loss_cls: 0.0714, s2.acc: 91.1046, s2.loss_bbox: 0.0748, loss: 1.0507, grad_norm: 2.8438\n",
      "2021-05-19 19:53:47,080 - mmdet - INFO - Epoch [4][400/601]\tlr: 2.000e-02, eta: 1:47:47, time: 0.942, data_time: 0.007, memory: 5810, loss_rpn_cls: 0.0891, loss_rpn_bbox: 0.0386, s0.loss_cls: 0.3187, s0.acc: 90.1406, s0.loss_bbox: 0.1524, s1.loss_cls: 0.1497, s1.acc: 90.7097, s1.loss_bbox: 0.1302, s2.loss_cls: 0.0675, s2.acc: 91.6603, s2.loss_bbox: 0.0678, loss: 1.0142, grad_norm: 3.0681\n",
      "2021-05-19 19:54:34,036 - mmdet - INFO - Epoch [4][450/601]\tlr: 2.000e-02, eta: 1:46:58, time: 0.939, data_time: 0.007, memory: 5810, loss_rpn_cls: 0.0843, loss_rpn_bbox: 0.0422, s0.loss_cls: 0.3015, s0.acc: 90.6201, s0.loss_bbox: 0.1529, s1.loss_cls: 0.1451, s1.acc: 91.0416, s1.loss_bbox: 0.1351, s2.loss_cls: 0.0659, s2.acc: 91.7367, s2.loss_bbox: 0.0710, loss: 0.9980, grad_norm: 2.6346\n",
      "2021-05-19 19:55:21,530 - mmdet - INFO - Epoch [4][500/601]\tlr: 2.000e-02, eta: 1:46:11, time: 0.950, data_time: 0.007, memory: 5810, loss_rpn_cls: 0.0751, loss_rpn_bbox: 0.0408, s0.loss_cls: 0.3259, s0.acc: 89.7031, s0.loss_bbox: 0.1622, s1.loss_cls: 0.1567, s1.acc: 89.9229, s1.loss_bbox: 0.1439, s2.loss_cls: 0.0727, s2.acc: 90.4562, s2.loss_bbox: 0.0788, loss: 1.0560, grad_norm: 2.8859\n",
      "2021-05-19 19:56:08,770 - mmdet - INFO - Epoch [4][550/601]\tlr: 2.000e-02, eta: 1:45:23, time: 0.945, data_time: 0.007, memory: 5810, loss_rpn_cls: 0.0929, loss_rpn_bbox: 0.0422, s0.loss_cls: 0.3162, s0.acc: 90.1543, s0.loss_bbox: 0.1559, s1.loss_cls: 0.1473, s1.acc: 90.6676, s1.loss_bbox: 0.1363, s2.loss_cls: 0.0664, s2.acc: 91.6011, s2.loss_bbox: 0.0721, loss: 1.0293, grad_norm: 2.8537\n",
      "2021-05-19 19:56:55,670 - mmdet - INFO - Epoch [4][600/601]\tlr: 2.000e-02, eta: 1:44:34, time: 0.938, data_time: 0.007, memory: 5810, loss_rpn_cls: 0.0928, loss_rpn_bbox: 0.0425, s0.loss_cls: 0.2998, s0.acc: 90.9414, s0.loss_bbox: 0.1440, s1.loss_cls: 0.1403, s1.acc: 91.3653, s1.loss_bbox: 0.1232, s2.loss_cls: 0.0640, s2.acc: 92.0049, s2.loss_bbox: 0.0644, loss: 0.9710, grad_norm: 2.7345\n",
      "2021-05-19 19:56:56,706 - mmdet - INFO - Saving checkpoint at 4 epochs\n"
     ]
    },
    {
     "name": "stdout",
     "output_type": "stream",
     "text": [
      "[>>>>>>>>>>>>>>>>>>>>>>>>>>>>>>] 655/655, 8.1 task/s, elapsed: 81s, ETA:     0s"
     ]
    },
    {
     "name": "stderr",
     "output_type": "stream",
     "text": [
      "2021-05-19 19:58:21,567 - mmdet - INFO - Evaluating bbox...\n"
     ]
    },
    {
     "name": "stdout",
     "output_type": "stream",
     "text": [
      "Loading and preparing results...\n",
      "DONE (t=0.12s)\n",
      "creating index...\n",
      "index created!\n",
      "Running per image evaluation...\n",
      "Evaluate annotation type *bbox*\n",
      "DONE (t=5.53s).\n",
      "Accumulating evaluation results...\n"
     ]
    },
    {
     "name": "stderr",
     "output_type": "stream",
     "text": [
      "2021-05-19 19:58:28,099 - mmdet - INFO - Epoch(val) [4][601]\tbbox_mAP: 0.1480, bbox_mAP_50: 0.2380, bbox_mAP_75: 0.1580, bbox_mAP_s: 0.0360, bbox_mAP_m: 0.1330, bbox_mAP_l: 0.2670, bbox_mAP_copypaste: 0.148 0.238 0.158 0.036 0.133 0.267\n"
     ]
    },
    {
     "name": "stdout",
     "output_type": "stream",
     "text": [
      "DONE (t=0.80s).\n",
      "Average Precision  (AP) @[ IoU=0.50:0.95 | area=   all | maxDets=100 ] = 0.148\n",
      "Average Precision  (AP) @[ IoU=0.50      | area=   all | maxDets=1000 ] = 0.238\n",
      "Average Precision  (AP) @[ IoU=0.75      | area=   all | maxDets=1000 ] = 0.158\n",
      "Average Precision  (AP) @[ IoU=0.50:0.95 | area= small | maxDets=1000 ] = 0.036\n",
      "Average Precision  (AP) @[ IoU=0.50:0.95 | area=medium | maxDets=1000 ] = 0.133\n",
      "Average Precision  (AP) @[ IoU=0.50:0.95 | area= large | maxDets=1000 ] = 0.267\n",
      "Average Recall     (AR) @[ IoU=0.50:0.95 | area=   all | maxDets=100 ] = 0.274\n",
      "Average Recall     (AR) @[ IoU=0.50:0.95 | area=   all | maxDets=300 ] = 0.274\n",
      "Average Recall     (AR) @[ IoU=0.50:0.95 | area=   all | maxDets=1000 ] = 0.274\n",
      "Average Recall     (AR) @[ IoU=0.50:0.95 | area= small | maxDets=1000 ] = 0.111\n",
      "Average Recall     (AR) @[ IoU=0.50:0.95 | area=medium | maxDets=1000 ] = 0.256\n",
      "Average Recall     (AR) @[ IoU=0.50:0.95 | area= large | maxDets=1000 ] = 0.492\n"
     ]
    },
    {
     "name": "stderr",
     "output_type": "stream",
     "text": [
      "2021-05-19 19:59:17,484 - mmdet - INFO - Epoch [5][50/601]\tlr: 2.000e-02, eta: 1:43:48, time: 0.987, data_time: 0.053, memory: 5810, loss_rpn_cls: 0.0736, loss_rpn_bbox: 0.0421, s0.loss_cls: 0.2905, s0.acc: 90.8818, s0.loss_bbox: 0.1511, s1.loss_cls: 0.1360, s1.acc: 91.5350, s1.loss_bbox: 0.1355, s2.loss_cls: 0.0616, s2.acc: 92.2695, s2.loss_bbox: 0.0731, loss: 0.9634, grad_norm: 2.8109\n",
      "2021-05-19 20:00:05,002 - mmdet - INFO - Epoch [5][100/601]\tlr: 2.000e-02, eta: 1:43:01, time: 0.950, data_time: 0.008, memory: 5810, loss_rpn_cls: 0.0659, loss_rpn_bbox: 0.0399, s0.loss_cls: 0.2902, s0.acc: 90.8369, s0.loss_bbox: 0.1469, s1.loss_cls: 0.1372, s1.acc: 91.2482, s1.loss_bbox: 0.1317, s2.loss_cls: 0.0630, s2.acc: 91.9856, s2.loss_bbox: 0.0711, loss: 0.9457, grad_norm: 2.7358\n",
      "2021-05-19 20:00:51,783 - mmdet - INFO - Epoch [5][150/601]\tlr: 2.000e-02, eta: 1:42:12, time: 0.936, data_time: 0.008, memory: 5810, loss_rpn_cls: 0.0634, loss_rpn_bbox: 0.0402, s0.loss_cls: 0.2973, s0.acc: 90.5098, s0.loss_bbox: 0.1478, s1.loss_cls: 0.1443, s1.acc: 90.7448, s1.loss_bbox: 0.1350, s2.loss_cls: 0.0681, s2.acc: 91.2665, s2.loss_bbox: 0.0740, loss: 0.9702, grad_norm: 2.9450\n",
      "2021-05-19 20:01:38,876 - mmdet - INFO - Epoch [5][200/601]\tlr: 2.000e-02, eta: 1:41:23, time: 0.942, data_time: 0.007, memory: 5810, loss_rpn_cls: 0.0752, loss_rpn_bbox: 0.0390, s0.loss_cls: 0.3067, s0.acc: 90.2393, s0.loss_bbox: 0.1549, s1.loss_cls: 0.1454, s1.acc: 90.6797, s1.loss_bbox: 0.1414, s2.loss_cls: 0.0680, s2.acc: 91.1928, s2.loss_bbox: 0.0777, loss: 1.0083, grad_norm: 2.9841\n",
      "2021-05-19 20:02:26,100 - mmdet - INFO - Epoch [5][250/601]\tlr: 2.000e-02, eta: 1:40:35, time: 0.944, data_time: 0.007, memory: 5810, loss_rpn_cls: 0.0701, loss_rpn_bbox: 0.0369, s0.loss_cls: 0.2822, s0.acc: 90.7461, s0.loss_bbox: 0.1397, s1.loss_cls: 0.1361, s1.acc: 91.0653, s1.loss_bbox: 0.1283, s2.loss_cls: 0.0654, s2.acc: 91.3182, s2.loss_bbox: 0.0717, loss: 0.9304, grad_norm: 2.9471\n",
      "2021-05-19 20:03:13,394 - mmdet - INFO - Epoch [5][300/601]\tlr: 2.000e-02, eta: 1:39:47, time: 0.946, data_time: 0.007, memory: 5810, loss_rpn_cls: 0.0691, loss_rpn_bbox: 0.0357, s0.loss_cls: 0.2728, s0.acc: 91.2744, s0.loss_bbox: 0.1337, s1.loss_cls: 0.1313, s1.acc: 91.6255, s1.loss_bbox: 0.1175, s2.loss_cls: 0.0603, s2.acc: 92.3364, s2.loss_bbox: 0.0619, loss: 0.8823, grad_norm: 2.7116\n",
      "2021-05-19 20:04:00,566 - mmdet - INFO - Epoch [5][350/601]\tlr: 2.000e-02, eta: 1:38:59, time: 0.943, data_time: 0.007, memory: 5810, loss_rpn_cls: 0.0792, loss_rpn_bbox: 0.0433, s0.loss_cls: 0.3026, s0.acc: 90.3320, s0.loss_bbox: 0.1488, s1.loss_cls: 0.1433, s1.acc: 90.7977, s1.loss_bbox: 0.1308, s2.loss_cls: 0.0669, s2.acc: 91.4228, s2.loss_bbox: 0.0727, loss: 0.9876, grad_norm: 3.0069\n",
      "2021-05-19 20:04:48,063 - mmdet - INFO - Epoch [5][400/601]\tlr: 2.000e-02, eta: 1:38:12, time: 0.950, data_time: 0.007, memory: 5810, loss_rpn_cls: 0.0726, loss_rpn_bbox: 0.0387, s0.loss_cls: 0.2948, s0.acc: 90.8633, s0.loss_bbox: 0.1335, s1.loss_cls: 0.1438, s1.acc: 91.0129, s1.loss_bbox: 0.1219, s2.loss_cls: 0.0673, s2.acc: 91.5537, s2.loss_bbox: 0.0671, loss: 0.9396, grad_norm: 2.8371\n",
      "2021-05-19 20:05:35,118 - mmdet - INFO - Epoch [5][450/601]\tlr: 2.000e-02, eta: 1:37:24, time: 0.941, data_time: 0.007, memory: 5810, loss_rpn_cls: 0.0684, loss_rpn_bbox: 0.0393, s0.loss_cls: 0.2814, s0.acc: 91.1475, s0.loss_bbox: 0.1307, s1.loss_cls: 0.1388, s1.acc: 91.2064, s1.loss_bbox: 0.1188, s2.loss_cls: 0.0668, s2.acc: 91.5433, s2.loss_bbox: 0.0671, loss: 0.9113, grad_norm: 2.8776\n",
      "2021-05-19 20:06:22,334 - mmdet - INFO - Epoch [5][500/601]\tlr: 2.000e-02, eta: 1:36:36, time: 0.944, data_time: 0.007, memory: 5810, loss_rpn_cls: 0.0765, loss_rpn_bbox: 0.0428, s0.loss_cls: 0.2963, s0.acc: 90.7080, s0.loss_bbox: 0.1563, s1.loss_cls: 0.1413, s1.acc: 91.0938, s1.loss_bbox: 0.1384, s2.loss_cls: 0.0656, s2.acc: 91.6538, s2.loss_bbox: 0.0722, loss: 0.9894, grad_norm: 2.8715\n",
      "2021-05-19 20:07:09,845 - mmdet - INFO - Epoch [5][550/601]\tlr: 2.000e-02, eta: 1:35:49, time: 0.950, data_time: 0.007, memory: 5810, loss_rpn_cls: 0.0659, loss_rpn_bbox: 0.0411, s0.loss_cls: 0.3001, s0.acc: 90.3057, s0.loss_bbox: 0.1573, s1.loss_cls: 0.1407, s1.acc: 90.7831, s1.loss_bbox: 0.1376, s2.loss_cls: 0.0640, s2.acc: 91.5309, s2.loss_bbox: 0.0729, loss: 0.9796, grad_norm: 3.0799\n",
      "2021-05-19 20:07:57,073 - mmdet - INFO - Epoch [5][600/601]\tlr: 2.000e-02, eta: 1:35:01, time: 0.945, data_time: 0.007, memory: 5810, loss_rpn_cls: 0.0804, loss_rpn_bbox: 0.0440, s0.loss_cls: 0.3215, s0.acc: 89.8428, s0.loss_bbox: 0.1654, s1.loss_cls: 0.1518, s1.acc: 90.3951, s1.loss_bbox: 0.1461, s2.loss_cls: 0.0699, s2.acc: 91.1135, s2.loss_bbox: 0.0786, loss: 1.0575, grad_norm: 3.1195\n",
      "2021-05-19 20:07:58,141 - mmdet - INFO - Saving checkpoint at 5 epochs\n"
     ]
    },
    {
     "name": "stdout",
     "output_type": "stream",
     "text": [
      "[>>>>>>>>>>>>>>>>>>>>>>>>>>>>>>] 655/655, 8.2 task/s, elapsed: 80s, ETA:     0s"
     ]
    },
    {
     "name": "stderr",
     "output_type": "stream",
     "text": [
      "2021-05-19 20:09:26,903 - mmdet - INFO - Evaluating bbox...\n"
     ]
    },
    {
     "name": "stdout",
     "output_type": "stream",
     "text": [
      "Loading and preparing results...\n",
      "DONE (t=0.64s)\n",
      "creating index...\n",
      "index created!\n",
      "Running per image evaluation...\n",
      "Evaluate annotation type *bbox*\n",
      "DONE (t=5.17s).\n",
      "Accumulating evaluation results...\n"
     ]
    },
    {
     "name": "stderr",
     "output_type": "stream",
     "text": [
      "2021-05-19 20:09:34,131 - mmdet - INFO - Now best checkpoint is epoch_5.pth.Best bbox_mAP_50 is 0.2460\n",
      "2021-05-19 20:09:34,139 - mmdet - INFO - Epoch(val) [5][601]\tbbox_mAP: 0.1530, bbox_mAP_50: 0.2460, bbox_mAP_75: 0.1640, bbox_mAP_s: 0.0380, bbox_mAP_m: 0.1370, bbox_mAP_l: 0.2810, bbox_mAP_copypaste: 0.153 0.246 0.164 0.038 0.137 0.281\n"
     ]
    },
    {
     "name": "stdout",
     "output_type": "stream",
     "text": [
      "DONE (t=1.34s).\n",
      "Average Precision  (AP) @[ IoU=0.50:0.95 | area=   all | maxDets=100 ] = 0.153\n",
      "Average Precision  (AP) @[ IoU=0.50      | area=   all | maxDets=1000 ] = 0.246\n",
      "Average Precision  (AP) @[ IoU=0.75      | area=   all | maxDets=1000 ] = 0.164\n",
      "Average Precision  (AP) @[ IoU=0.50:0.95 | area= small | maxDets=1000 ] = 0.038\n",
      "Average Precision  (AP) @[ IoU=0.50:0.95 | area=medium | maxDets=1000 ] = 0.137\n",
      "Average Precision  (AP) @[ IoU=0.50:0.95 | area= large | maxDets=1000 ] = 0.281\n",
      "Average Recall     (AR) @[ IoU=0.50:0.95 | area=   all | maxDets=100 ] = 0.294\n",
      "Average Recall     (AR) @[ IoU=0.50:0.95 | area=   all | maxDets=300 ] = 0.294\n",
      "Average Recall     (AR) @[ IoU=0.50:0.95 | area=   all | maxDets=1000 ] = 0.294\n",
      "Average Recall     (AR) @[ IoU=0.50:0.95 | area= small | maxDets=1000 ] = 0.133\n",
      "Average Recall     (AR) @[ IoU=0.50:0.95 | area=medium | maxDets=1000 ] = 0.281\n",
      "Average Recall     (AR) @[ IoU=0.50:0.95 | area= large | maxDets=1000 ] = 0.499\n"
     ]
    },
    {
     "name": "stderr",
     "output_type": "stream",
     "text": [
      "2021-05-19 20:10:23,910 - mmdet - INFO - Epoch [6][50/601]\tlr: 2.000e-02, eta: 1:34:15, time: 0.995, data_time: 0.053, memory: 5810, loss_rpn_cls: 0.0629, loss_rpn_bbox: 0.0373, s0.loss_cls: 0.2778, s0.acc: 90.8350, s0.loss_bbox: 0.1411, s1.loss_cls: 0.1367, s1.acc: 90.6790, s1.loss_bbox: 0.1261, s2.loss_cls: 0.0651, s2.acc: 91.1546, s2.loss_bbox: 0.0693, loss: 0.9163, grad_norm: 2.9212\n",
      "2021-05-19 20:11:11,149 - mmdet - INFO - Epoch [6][100/601]\tlr: 2.000e-02, eta: 1:33:27, time: 0.945, data_time: 0.008, memory: 5810, loss_rpn_cls: 0.0731, loss_rpn_bbox: 0.0448, s0.loss_cls: 0.3120, s0.acc: 90.0928, s0.loss_bbox: 0.1579, s1.loss_cls: 0.1488, s1.acc: 90.4279, s1.loss_bbox: 0.1390, s2.loss_cls: 0.0698, s2.acc: 91.0777, s2.loss_bbox: 0.0763, loss: 1.0217, grad_norm: 3.0235\n",
      "2021-05-19 20:11:58,233 - mmdet - INFO - Epoch [6][150/601]\tlr: 2.000e-02, eta: 1:32:39, time: 0.942, data_time: 0.008, memory: 5810, loss_rpn_cls: 0.0607, loss_rpn_bbox: 0.0371, s0.loss_cls: 0.2975, s0.acc: 90.3965, s0.loss_bbox: 0.1462, s1.loss_cls: 0.1416, s1.acc: 90.9004, s1.loss_bbox: 0.1319, s2.loss_cls: 0.0661, s2.acc: 91.3253, s2.loss_bbox: 0.0726, loss: 0.9535, grad_norm: 2.9322\n",
      "2021-05-19 20:12:45,702 - mmdet - INFO - Epoch [6][200/601]\tlr: 2.000e-02, eta: 1:31:52, time: 0.949, data_time: 0.008, memory: 5810, loss_rpn_cls: 0.0792, loss_rpn_bbox: 0.0422, s0.loss_cls: 0.3160, s0.acc: 90.3184, s0.loss_bbox: 0.1567, s1.loss_cls: 0.1488, s1.acc: 90.7464, s1.loss_bbox: 0.1361, s2.loss_cls: 0.0689, s2.acc: 91.3029, s2.loss_bbox: 0.0748, loss: 1.0227, grad_norm: 3.2637\n",
      "2021-05-19 20:13:33,250 - mmdet - INFO - Epoch [6][250/601]\tlr: 2.000e-02, eta: 1:31:05, time: 0.951, data_time: 0.008, memory: 5810, loss_rpn_cls: 0.0637, loss_rpn_bbox: 0.0386, s0.loss_cls: 0.2913, s0.acc: 90.7246, s0.loss_bbox: 0.1434, s1.loss_cls: 0.1403, s1.acc: 91.0153, s1.loss_bbox: 0.1275, s2.loss_cls: 0.0659, s2.acc: 91.6732, s2.loss_bbox: 0.0715, loss: 0.9422, grad_norm: 2.7805\n",
      "2021-05-19 20:14:20,226 - mmdet - INFO - Epoch [6][300/601]\tlr: 2.000e-02, eta: 1:30:16, time: 0.940, data_time: 0.007, memory: 5810, loss_rpn_cls: 0.0754, loss_rpn_bbox: 0.0413, s0.loss_cls: 0.2960, s0.acc: 90.4785, s0.loss_bbox: 0.1485, s1.loss_cls: 0.1415, s1.acc: 90.8500, s1.loss_bbox: 0.1320, s2.loss_cls: 0.0660, s2.acc: 91.4588, s2.loss_bbox: 0.0711, loss: 0.9718, grad_norm: 3.0002\n",
      "2021-05-19 20:15:07,486 - mmdet - INFO - Epoch [6][350/601]\tlr: 2.000e-02, eta: 1:29:29, time: 0.945, data_time: 0.008, memory: 5810, loss_rpn_cls: 0.0684, loss_rpn_bbox: 0.0401, s0.loss_cls: 0.2865, s0.acc: 90.6865, s0.loss_bbox: 0.1403, s1.loss_cls: 0.1377, s1.acc: 90.8574, s1.loss_bbox: 0.1241, s2.loss_cls: 0.0649, s2.acc: 91.5701, s2.loss_bbox: 0.0689, loss: 0.9309, grad_norm: 2.9879\n",
      "2021-05-19 20:15:54,583 - mmdet - INFO - Epoch [6][400/601]\tlr: 2.000e-02, eta: 1:28:41, time: 0.942, data_time: 0.008, memory: 5810, loss_rpn_cls: 0.0632, loss_rpn_bbox: 0.0382, s0.loss_cls: 0.2741, s0.acc: 91.2637, s0.loss_bbox: 0.1374, s1.loss_cls: 0.1346, s1.acc: 91.2737, s1.loss_bbox: 0.1270, s2.loss_cls: 0.0646, s2.acc: 91.6734, s2.loss_bbox: 0.0731, loss: 0.9122, grad_norm: 3.1149\n",
      "2021-05-19 20:16:41,585 - mmdet - INFO - Epoch [6][450/601]\tlr: 2.000e-02, eta: 1:27:53, time: 0.940, data_time: 0.008, memory: 5810, loss_rpn_cls: 0.0621, loss_rpn_bbox: 0.0371, s0.loss_cls: 0.2612, s0.acc: 91.5391, s0.loss_bbox: 0.1324, s1.loss_cls: 0.1273, s1.acc: 91.6355, s1.loss_bbox: 0.1214, s2.loss_cls: 0.0615, s2.acc: 91.8470, s2.loss_bbox: 0.0695, loss: 0.8724, grad_norm: 3.0823\n",
      "2021-05-19 20:17:28,718 - mmdet - INFO - Epoch [6][500/601]\tlr: 2.000e-02, eta: 1:27:05, time: 0.943, data_time: 0.008, memory: 5810, loss_rpn_cls: 0.0666, loss_rpn_bbox: 0.0381, s0.loss_cls: 0.2882, s0.acc: 91.0469, s0.loss_bbox: 0.1436, s1.loss_cls: 0.1392, s1.acc: 91.3524, s1.loss_bbox: 0.1282, s2.loss_cls: 0.0661, s2.acc: 91.8630, s2.loss_bbox: 0.0706, loss: 0.9407, grad_norm: 3.0875\n",
      "2021-05-19 20:18:15,600 - mmdet - INFO - Epoch [6][550/601]\tlr: 2.000e-02, eta: 1:26:16, time: 0.938, data_time: 0.008, memory: 5810, loss_rpn_cls: 0.0605, loss_rpn_bbox: 0.0354, s0.loss_cls: 0.2419, s0.acc: 92.2676, s0.loss_bbox: 0.1200, s1.loss_cls: 0.1169, s1.acc: 92.5313, s1.loss_bbox: 0.1071, s2.loss_cls: 0.0559, s2.acc: 92.7319, s2.loss_bbox: 0.0600, loss: 0.7977, grad_norm: 2.7462\n",
      "2021-05-19 20:19:02,945 - mmdet - INFO - Epoch [6][600/601]\tlr: 2.000e-02, eta: 1:25:29, time: 0.947, data_time: 0.007, memory: 5810, loss_rpn_cls: 0.0648, loss_rpn_bbox: 0.0410, s0.loss_cls: 0.2700, s0.acc: 91.3301, s0.loss_bbox: 0.1409, s1.loss_cls: 0.1266, s1.acc: 91.9186, s1.loss_bbox: 0.1278, s2.loss_cls: 0.0593, s2.acc: 92.4317, s2.loss_bbox: 0.0697, loss: 0.9001, grad_norm: 2.8126\n",
      "2021-05-19 20:19:03,987 - mmdet - INFO - Saving checkpoint at 6 epochs\n"
     ]
    },
    {
     "name": "stdout",
     "output_type": "stream",
     "text": [
      "[>>>>>>>>>>>>>>>>>>>>>>>>>>>>>>] 655/655, 8.0 task/s, elapsed: 82s, ETA:     0s"
     ]
    },
    {
     "name": "stderr",
     "output_type": "stream",
     "text": [
      "2021-05-19 20:20:29,408 - mmdet - INFO - Evaluating bbox...\n"
     ]
    },
    {
     "name": "stdout",
     "output_type": "stream",
     "text": [
      "Loading and preparing results...\n",
      "DONE (t=0.65s)\n",
      "creating index...\n",
      "index created!\n",
      "Running per image evaluation...\n",
      "Evaluate annotation type *bbox*\n",
      "DONE (t=5.24s).\n",
      "Accumulating evaluation results...\n"
     ]
    },
    {
     "name": "stderr",
     "output_type": "stream",
     "text": [
      "2021-05-19 20:20:36,163 - mmdet - INFO - Now best checkpoint is epoch_6.pth.Best bbox_mAP_50 is 0.2680\n",
      "2021-05-19 20:20:36,168 - mmdet - INFO - Epoch(val) [6][601]\tbbox_mAP: 0.1660, bbox_mAP_50: 0.2680, bbox_mAP_75: 0.1730, bbox_mAP_s: 0.0330, bbox_mAP_m: 0.1460, bbox_mAP_l: 0.3140, bbox_mAP_copypaste: 0.166 0.268 0.173 0.033 0.146 0.314\n"
     ]
    },
    {
     "name": "stdout",
     "output_type": "stream",
     "text": [
      "DONE (t=0.78s).\n",
      "Average Precision  (AP) @[ IoU=0.50:0.95 | area=   all | maxDets=100 ] = 0.166\n",
      "Average Precision  (AP) @[ IoU=0.50      | area=   all | maxDets=1000 ] = 0.268\n",
      "Average Precision  (AP) @[ IoU=0.75      | area=   all | maxDets=1000 ] = 0.173\n",
      "Average Precision  (AP) @[ IoU=0.50:0.95 | area= small | maxDets=1000 ] = 0.033\n",
      "Average Precision  (AP) @[ IoU=0.50:0.95 | area=medium | maxDets=1000 ] = 0.146\n",
      "Average Precision  (AP) @[ IoU=0.50:0.95 | area= large | maxDets=1000 ] = 0.314\n",
      "Average Recall     (AR) @[ IoU=0.50:0.95 | area=   all | maxDets=100 ] = 0.302\n",
      "Average Recall     (AR) @[ IoU=0.50:0.95 | area=   all | maxDets=300 ] = 0.302\n",
      "Average Recall     (AR) @[ IoU=0.50:0.95 | area=   all | maxDets=1000 ] = 0.302\n",
      "Average Recall     (AR) @[ IoU=0.50:0.95 | area= small | maxDets=1000 ] = 0.146\n",
      "Average Recall     (AR) @[ IoU=0.50:0.95 | area=medium | maxDets=1000 ] = 0.279\n",
      "Average Recall     (AR) @[ IoU=0.50:0.95 | area= large | maxDets=1000 ] = 0.523\n"
     ]
    },
    {
     "name": "stderr",
     "output_type": "stream",
     "text": [
      "2021-05-19 20:21:25,651 - mmdet - INFO - Epoch [7][50/601]\tlr: 2.000e-02, eta: 1:24:42, time: 0.989, data_time: 0.053, memory: 5810, loss_rpn_cls: 0.0610, loss_rpn_bbox: 0.0382, s0.loss_cls: 0.2591, s0.acc: 91.5703, s0.loss_bbox: 0.1328, s1.loss_cls: 0.1248, s1.acc: 91.8418, s1.loss_bbox: 0.1198, s2.loss_cls: 0.0593, s2.acc: 92.1468, s2.loss_bbox: 0.0680, loss: 0.8632, grad_norm: 2.8379\n",
      "2021-05-19 20:22:12,836 - mmdet - INFO - Epoch [7][100/601]\tlr: 2.000e-02, eta: 1:23:54, time: 0.944, data_time: 0.007, memory: 5810, loss_rpn_cls: 0.0578, loss_rpn_bbox: 0.0346, s0.loss_cls: 0.2644, s0.acc: 91.2275, s0.loss_bbox: 0.1375, s1.loss_cls: 0.1230, s1.acc: 91.7960, s1.loss_bbox: 0.1293, s2.loss_cls: 0.0594, s2.acc: 92.0695, s2.loss_bbox: 0.0757, loss: 0.8817, grad_norm: 3.0555\n",
      "2021-05-19 20:22:59,651 - mmdet - INFO - Epoch [7][150/601]\tlr: 2.000e-02, eta: 1:23:06, time: 0.936, data_time: 0.007, memory: 5810, loss_rpn_cls: 0.0590, loss_rpn_bbox: 0.0350, s0.loss_cls: 0.2598, s0.acc: 91.5605, s0.loss_bbox: 0.1291, s1.loss_cls: 0.1287, s1.acc: 91.8827, s1.loss_bbox: 0.1182, s2.loss_cls: 0.0615, s2.acc: 92.1988, s2.loss_bbox: 0.0667, loss: 0.8579, grad_norm: 3.2563\n",
      "2021-05-19 20:23:46,881 - mmdet - INFO - Epoch [7][200/601]\tlr: 2.000e-02, eta: 1:22:18, time: 0.945, data_time: 0.007, memory: 5810, loss_rpn_cls: 0.0562, loss_rpn_bbox: 0.0363, s0.loss_cls: 0.2561, s0.acc: 91.6777, s0.loss_bbox: 0.1286, s1.loss_cls: 0.1226, s1.acc: 91.9871, s1.loss_bbox: 0.1169, s2.loss_cls: 0.0589, s2.acc: 92.2479, s2.loss_bbox: 0.0682, loss: 0.8439, grad_norm: 3.0301\n",
      "2021-05-19 20:24:34,247 - mmdet - INFO - Epoch [7][250/601]\tlr: 2.000e-02, eta: 1:21:31, time: 0.947, data_time: 0.007, memory: 5810, loss_rpn_cls: 0.0665, loss_rpn_bbox: 0.0338, s0.loss_cls: 0.2650, s0.acc: 91.5693, s0.loss_bbox: 0.1340, s1.loss_cls: 0.1266, s1.acc: 91.8911, s1.loss_bbox: 0.1196, s2.loss_cls: 0.0610, s2.acc: 92.1773, s2.loss_bbox: 0.0677, loss: 0.8742, grad_norm: 3.1330\n",
      "2021-05-19 20:25:21,730 - mmdet - INFO - Epoch [7][300/601]\tlr: 2.000e-02, eta: 1:20:44, time: 0.950, data_time: 0.008, memory: 5810, loss_rpn_cls: 0.0708, loss_rpn_bbox: 0.0437, s0.loss_cls: 0.2979, s0.acc: 90.6201, s0.loss_bbox: 0.1459, s1.loss_cls: 0.1429, s1.acc: 90.8997, s1.loss_bbox: 0.1302, s2.loss_cls: 0.0677, s2.acc: 91.4788, s2.loss_bbox: 0.0727, loss: 0.9719, grad_norm: 2.9683\n",
      "2021-05-19 20:26:08,910 - mmdet - INFO - Epoch [7][350/601]\tlr: 2.000e-02, eta: 1:19:56, time: 0.944, data_time: 0.008, memory: 5810, loss_rpn_cls: 0.0559, loss_rpn_bbox: 0.0352, s0.loss_cls: 0.2892, s0.acc: 90.6797, s0.loss_bbox: 0.1390, s1.loss_cls: 0.1403, s1.acc: 90.9121, s1.loss_bbox: 0.1278, s2.loss_cls: 0.0658, s2.acc: 91.4110, s2.loss_bbox: 0.0725, loss: 0.9257, grad_norm: 3.0082\n",
      "2021-05-19 20:26:56,225 - mmdet - INFO - Epoch [7][400/601]\tlr: 2.000e-02, eta: 1:19:08, time: 0.946, data_time: 0.007, memory: 5810, loss_rpn_cls: 0.0544, loss_rpn_bbox: 0.0309, s0.loss_cls: 0.2647, s0.acc: 91.3613, s0.loss_bbox: 0.1304, s1.loss_cls: 0.1269, s1.acc: 91.6619, s1.loss_bbox: 0.1214, s2.loss_cls: 0.0613, s2.acc: 91.8825, s2.loss_bbox: 0.0692, loss: 0.8591, grad_norm: 2.9986\n",
      "2021-05-19 20:27:43,164 - mmdet - INFO - Epoch [7][450/601]\tlr: 2.000e-02, eta: 1:18:21, time: 0.939, data_time: 0.007, memory: 5810, loss_rpn_cls: 0.0549, loss_rpn_bbox: 0.0390, s0.loss_cls: 0.2692, s0.acc: 91.1143, s0.loss_bbox: 0.1426, s1.loss_cls: 0.1286, s1.acc: 91.5423, s1.loss_bbox: 0.1280, s2.loss_cls: 0.0612, s2.acc: 91.9099, s2.loss_bbox: 0.0721, loss: 0.8956, grad_norm: 2.9438\n",
      "2021-05-19 20:28:30,014 - mmdet - INFO - Epoch [7][500/601]\tlr: 2.000e-02, eta: 1:17:32, time: 0.937, data_time: 0.007, memory: 5810, loss_rpn_cls: 0.0625, loss_rpn_bbox: 0.0387, s0.loss_cls: 0.2826, s0.acc: 90.8477, s0.loss_bbox: 0.1384, s1.loss_cls: 0.1349, s1.acc: 91.0691, s1.loss_bbox: 0.1238, s2.loss_cls: 0.0633, s2.acc: 91.7465, s2.loss_bbox: 0.0679, loss: 0.9121, grad_norm: 3.2389\n",
      "2021-05-19 20:29:17,165 - mmdet - INFO - Epoch [7][550/601]\tlr: 2.000e-02, eta: 1:16:45, time: 0.943, data_time: 0.007, memory: 5810, loss_rpn_cls: 0.0612, loss_rpn_bbox: 0.0397, s0.loss_cls: 0.2851, s0.acc: 90.7354, s0.loss_bbox: 0.1489, s1.loss_cls: 0.1331, s1.acc: 91.3032, s1.loss_bbox: 0.1271, s2.loss_cls: 0.0623, s2.acc: 91.7637, s2.loss_bbox: 0.0698, loss: 0.9273, grad_norm: 3.0015\n",
      "2021-05-19 20:30:04,578 - mmdet - INFO - Epoch [7][600/601]\tlr: 2.000e-02, eta: 1:15:57, time: 0.948, data_time: 0.007, memory: 5810, loss_rpn_cls: 0.0727, loss_rpn_bbox: 0.0428, s0.loss_cls: 0.2984, s0.acc: 90.5498, s0.loss_bbox: 0.1444, s1.loss_cls: 0.1417, s1.acc: 90.9936, s1.loss_bbox: 0.1273, s2.loss_cls: 0.0655, s2.acc: 91.6817, s2.loss_bbox: 0.0719, loss: 0.9647, grad_norm: 2.9709\n",
      "2021-05-19 20:30:05,627 - mmdet - INFO - Saving checkpoint at 7 epochs\n"
     ]
    },
    {
     "name": "stdout",
     "output_type": "stream",
     "text": [
      "[>>>>>>>>>>>>>>>>>>>>>>>>>>>>>>] 655/655, 8.2 task/s, elapsed: 80s, ETA:     0s"
     ]
    },
    {
     "name": "stderr",
     "output_type": "stream",
     "text": [
      "2021-05-19 20:31:28,839 - mmdet - INFO - Evaluating bbox...\n"
     ]
    },
    {
     "name": "stdout",
     "output_type": "stream",
     "text": [
      "Loading and preparing results...\n",
      "DONE (t=0.61s)\n",
      "creating index...\n",
      "index created!\n",
      "Running per image evaluation...\n",
      "Evaluate annotation type *bbox*\n",
      "DONE (t=4.36s).\n",
      "Accumulating evaluation results...\n"
     ]
    },
    {
     "name": "stderr",
     "output_type": "stream",
     "text": [
      "2021-05-19 20:31:34,480 - mmdet - INFO - Epoch(val) [7][601]\tbbox_mAP: 0.1680, bbox_mAP_50: 0.2660, bbox_mAP_75: 0.1730, bbox_mAP_s: 0.0330, bbox_mAP_m: 0.1420, bbox_mAP_l: 0.3380, bbox_mAP_copypaste: 0.168 0.266 0.173 0.033 0.142 0.338\n"
     ]
    },
    {
     "name": "stdout",
     "output_type": "stream",
     "text": [
      "DONE (t=0.61s).\n",
      "Average Precision  (AP) @[ IoU=0.50:0.95 | area=   all | maxDets=100 ] = 0.168\n",
      "Average Precision  (AP) @[ IoU=0.50      | area=   all | maxDets=1000 ] = 0.266\n",
      "Average Precision  (AP) @[ IoU=0.75      | area=   all | maxDets=1000 ] = 0.173\n",
      "Average Precision  (AP) @[ IoU=0.50:0.95 | area= small | maxDets=1000 ] = 0.033\n",
      "Average Precision  (AP) @[ IoU=0.50:0.95 | area=medium | maxDets=1000 ] = 0.142\n",
      "Average Precision  (AP) @[ IoU=0.50:0.95 | area= large | maxDets=1000 ] = 0.338\n",
      "Average Recall     (AR) @[ IoU=0.50:0.95 | area=   all | maxDets=100 ] = 0.292\n",
      "Average Recall     (AR) @[ IoU=0.50:0.95 | area=   all | maxDets=300 ] = 0.292\n",
      "Average Recall     (AR) @[ IoU=0.50:0.95 | area=   all | maxDets=1000 ] = 0.292\n",
      "Average Recall     (AR) @[ IoU=0.50:0.95 | area= small | maxDets=1000 ] = 0.127\n",
      "Average Recall     (AR) @[ IoU=0.50:0.95 | area=medium | maxDets=1000 ] = 0.271\n",
      "Average Recall     (AR) @[ IoU=0.50:0.95 | area= large | maxDets=1000 ] = 0.518\n"
     ]
    },
    {
     "name": "stderr",
     "output_type": "stream",
     "text": [
      "2021-05-19 20:32:23,955 - mmdet - INFO - Epoch [8][50/601]\tlr: 2.000e-02, eta: 1:15:10, time: 0.989, data_time: 0.053, memory: 5810, loss_rpn_cls: 0.0517, loss_rpn_bbox: 0.0397, s0.loss_cls: 0.2406, s0.acc: 91.8193, s0.loss_bbox: 0.1297, s1.loss_cls: 0.1153, s1.acc: 92.2641, s1.loss_bbox: 0.1197, s2.loss_cls: 0.0556, s2.acc: 92.3842, s2.loss_bbox: 0.0705, loss: 0.8227, grad_norm: 2.9922\n",
      "2021-05-19 20:33:10,957 - mmdet - INFO - Epoch [8][100/601]\tlr: 2.000e-02, eta: 1:14:23, time: 0.940, data_time: 0.008, memory: 5810, loss_rpn_cls: 0.0522, loss_rpn_bbox: 0.0375, s0.loss_cls: 0.2705, s0.acc: 91.3486, s0.loss_bbox: 0.1288, s1.loss_cls: 0.1293, s1.acc: 91.6047, s1.loss_bbox: 0.1197, s2.loss_cls: 0.0611, s2.acc: 91.9844, s2.loss_bbox: 0.0690, loss: 0.8680, grad_norm: 3.0783\n",
      "2021-05-19 20:33:58,136 - mmdet - INFO - Epoch [8][150/601]\tlr: 2.000e-02, eta: 1:13:35, time: 0.944, data_time: 0.008, memory: 5810, loss_rpn_cls: 0.0503, loss_rpn_bbox: 0.0309, s0.loss_cls: 0.2464, s0.acc: 91.8076, s0.loss_bbox: 0.1285, s1.loss_cls: 0.1178, s1.acc: 92.1756, s1.loss_bbox: 0.1200, s2.loss_cls: 0.0571, s2.acc: 92.3520, s2.loss_bbox: 0.0684, loss: 0.8194, grad_norm: 3.0710\n",
      "2021-05-19 20:34:45,221 - mmdet - INFO - Epoch [8][200/601]\tlr: 2.000e-02, eta: 1:12:47, time: 0.942, data_time: 0.008, memory: 5810, loss_rpn_cls: 0.0547, loss_rpn_bbox: 0.0381, s0.loss_cls: 0.2705, s0.acc: 91.1777, s0.loss_bbox: 0.1385, s1.loss_cls: 0.1307, s1.acc: 91.4538, s1.loss_bbox: 0.1220, s2.loss_cls: 0.0617, s2.acc: 91.8849, s2.loss_bbox: 0.0688, loss: 0.8851, grad_norm: 3.1395\n",
      "2021-05-19 20:35:32,535 - mmdet - INFO - Epoch [8][250/601]\tlr: 2.000e-02, eta: 1:12:00, time: 0.946, data_time: 0.008, memory: 5810, loss_rpn_cls: 0.0569, loss_rpn_bbox: 0.0338, s0.loss_cls: 0.2726, s0.acc: 91.1396, s0.loss_bbox: 0.1333, s1.loss_cls: 0.1287, s1.acc: 91.4985, s1.loss_bbox: 0.1212, s2.loss_cls: 0.0610, s2.acc: 92.0010, s2.loss_bbox: 0.0704, loss: 0.8779, grad_norm: 3.2195\n",
      "2021-05-19 20:36:19,740 - mmdet - INFO - Epoch [8][300/601]\tlr: 2.000e-02, eta: 1:11:12, time: 0.944, data_time: 0.008, memory: 5810, loss_rpn_cls: 0.0493, loss_rpn_bbox: 0.0339, s0.loss_cls: 0.2464, s0.acc: 91.9004, s0.loss_bbox: 0.1360, s1.loss_cls: 0.1181, s1.acc: 92.2710, s1.loss_bbox: 0.1238, s2.loss_cls: 0.0568, s2.acc: 92.6289, s2.loss_bbox: 0.0686, loss: 0.8328, grad_norm: 3.0088\n",
      "2021-05-19 20:37:07,095 - mmdet - INFO - Epoch [8][350/601]\tlr: 2.000e-02, eta: 1:10:25, time: 0.947, data_time: 0.007, memory: 5810, loss_rpn_cls: 0.0674, loss_rpn_bbox: 0.0383, s0.loss_cls: 0.2887, s0.acc: 90.7793, s0.loss_bbox: 0.1366, s1.loss_cls: 0.1404, s1.acc: 91.0365, s1.loss_bbox: 0.1250, s2.loss_cls: 0.0659, s2.acc: 91.4130, s2.loss_bbox: 0.0717, loss: 0.9340, grad_norm: 3.3433\n",
      "2021-05-19 20:37:54,306 - mmdet - INFO - Epoch [8][400/601]\tlr: 2.000e-02, eta: 1:09:37, time: 0.944, data_time: 0.008, memory: 5810, loss_rpn_cls: 0.0550, loss_rpn_bbox: 0.0416, s0.loss_cls: 0.2760, s0.acc: 91.1465, s0.loss_bbox: 0.1404, s1.loss_cls: 0.1314, s1.acc: 91.6447, s1.loss_bbox: 0.1273, s2.loss_cls: 0.0632, s2.acc: 91.9190, s2.loss_bbox: 0.0731, loss: 0.9079, grad_norm: 2.9339\n",
      "2021-05-19 20:38:41,736 - mmdet - INFO - Epoch [8][450/601]\tlr: 2.000e-02, eta: 1:08:50, time: 0.949, data_time: 0.008, memory: 5810, loss_rpn_cls: 0.0586, loss_rpn_bbox: 0.0402, s0.loss_cls: 0.2549, s0.acc: 91.5107, s0.loss_bbox: 0.1271, s1.loss_cls: 0.1222, s1.acc: 91.9965, s1.loss_bbox: 0.1185, s2.loss_cls: 0.0593, s2.acc: 92.1818, s2.loss_bbox: 0.0683, loss: 0.8491, grad_norm: 2.9574\n",
      "2021-05-19 20:39:28,779 - mmdet - INFO - Epoch [8][500/601]\tlr: 2.000e-02, eta: 1:08:02, time: 0.941, data_time: 0.008, memory: 5810, loss_rpn_cls: 0.0553, loss_rpn_bbox: 0.0327, s0.loss_cls: 0.2438, s0.acc: 92.0762, s0.loss_bbox: 0.1155, s1.loss_cls: 0.1169, s1.acc: 92.5573, s1.loss_bbox: 0.1096, s2.loss_cls: 0.0561, s2.acc: 92.8325, s2.loss_bbox: 0.0628, loss: 0.7926, grad_norm: 3.2323\n",
      "2021-05-19 20:40:15,805 - mmdet - INFO - Epoch [8][550/601]\tlr: 2.000e-02, eta: 1:07:14, time: 0.941, data_time: 0.007, memory: 5810, loss_rpn_cls: 0.0561, loss_rpn_bbox: 0.0400, s0.loss_cls: 0.2717, s0.acc: 91.2715, s0.loss_bbox: 0.1378, s1.loss_cls: 0.1288, s1.acc: 91.6349, s1.loss_bbox: 0.1257, s2.loss_cls: 0.0607, s2.acc: 92.1508, s2.loss_bbox: 0.0705, loss: 0.8913, grad_norm: 3.0992\n",
      "2021-05-19 20:41:03,050 - mmdet - INFO - Epoch [8][600/601]\tlr: 2.000e-02, eta: 1:06:27, time: 0.945, data_time: 0.007, memory: 5810, loss_rpn_cls: 0.0519, loss_rpn_bbox: 0.0326, s0.loss_cls: 0.2490, s0.acc: 92.1328, s0.loss_bbox: 0.1228, s1.loss_cls: 0.1191, s1.acc: 92.4717, s1.loss_bbox: 0.1118, s2.loss_cls: 0.0577, s2.acc: 92.4357, s2.loss_bbox: 0.0645, loss: 0.8095, grad_norm: 2.9528\n",
      "2021-05-19 20:41:04,127 - mmdet - INFO - Saving checkpoint at 8 epochs\n"
     ]
    },
    {
     "name": "stdout",
     "output_type": "stream",
     "text": [
      "[>>>>>>>>>>>>>>>>>>>>>>>>>>>>>>] 655/655, 8.0 task/s, elapsed: 82s, ETA:     0s"
     ]
    },
    {
     "name": "stderr",
     "output_type": "stream",
     "text": [
      "2021-05-19 20:42:30,414 - mmdet - INFO - Evaluating bbox...\n"
     ]
    },
    {
     "name": "stdout",
     "output_type": "stream",
     "text": [
      "Loading and preparing results...\n",
      "DONE (t=0.08s)\n",
      "creating index...\n",
      "index created!\n",
      "Running per image evaluation...\n",
      "Evaluate annotation type *bbox*\n",
      "DONE (t=4.37s).\n",
      "Accumulating evaluation results...\n"
     ]
    },
    {
     "name": "stderr",
     "output_type": "stream",
     "text": [
      "2021-05-19 20:42:35,478 - mmdet - INFO - Now best checkpoint is epoch_8.pth.Best bbox_mAP_50 is 0.2690\n",
      "2021-05-19 20:42:35,483 - mmdet - INFO - Epoch(val) [8][601]\tbbox_mAP: 0.1730, bbox_mAP_50: 0.2690, bbox_mAP_75: 0.1830, bbox_mAP_s: 0.0400, bbox_mAP_m: 0.1460, bbox_mAP_l: 0.3510, bbox_mAP_copypaste: 0.173 0.269 0.183 0.040 0.146 0.351\n"
     ]
    },
    {
     "name": "stdout",
     "output_type": "stream",
     "text": [
      "DONE (t=0.56s).\n",
      "Average Precision  (AP) @[ IoU=0.50:0.95 | area=   all | maxDets=100 ] = 0.173\n",
      "Average Precision  (AP) @[ IoU=0.50      | area=   all | maxDets=1000 ] = 0.269\n",
      "Average Precision  (AP) @[ IoU=0.75      | area=   all | maxDets=1000 ] = 0.183\n",
      "Average Precision  (AP) @[ IoU=0.50:0.95 | area= small | maxDets=1000 ] = 0.040\n",
      "Average Precision  (AP) @[ IoU=0.50:0.95 | area=medium | maxDets=1000 ] = 0.146\n",
      "Average Precision  (AP) @[ IoU=0.50:0.95 | area= large | maxDets=1000 ] = 0.351\n",
      "Average Recall     (AR) @[ IoU=0.50:0.95 | area=   all | maxDets=100 ] = 0.286\n",
      "Average Recall     (AR) @[ IoU=0.50:0.95 | area=   all | maxDets=300 ] = 0.286\n",
      "Average Recall     (AR) @[ IoU=0.50:0.95 | area=   all | maxDets=1000 ] = 0.286\n",
      "Average Recall     (AR) @[ IoU=0.50:0.95 | area= small | maxDets=1000 ] = 0.111\n",
      "Average Recall     (AR) @[ IoU=0.50:0.95 | area=medium | maxDets=1000 ] = 0.267\n",
      "Average Recall     (AR) @[ IoU=0.50:0.95 | area= large | maxDets=1000 ] = 0.525\n"
     ]
    },
    {
     "name": "stderr",
     "output_type": "stream",
     "text": [
      "2021-05-19 20:43:25,334 - mmdet - INFO - Epoch [9][50/601]\tlr: 2.000e-02, eta: 1:05:40, time: 0.997, data_time: 0.053, memory: 5810, loss_rpn_cls: 0.0511, loss_rpn_bbox: 0.0394, s0.loss_cls: 0.2585, s0.acc: 91.3379, s0.loss_bbox: 0.1330, s1.loss_cls: 0.1219, s1.acc: 91.9295, s1.loss_bbox: 0.1231, s2.loss_cls: 0.0609, s2.acc: 91.8788, s2.loss_bbox: 0.0737, loss: 0.8617, grad_norm: 3.2322\n",
      "2021-05-19 20:44:12,301 - mmdet - INFO - Epoch [9][100/601]\tlr: 2.000e-02, eta: 1:04:52, time: 0.939, data_time: 0.008, memory: 5810, loss_rpn_cls: 0.0414, loss_rpn_bbox: 0.0316, s0.loss_cls: 0.2358, s0.acc: 92.1211, s0.loss_bbox: 0.1156, s1.loss_cls: 0.1120, s1.acc: 92.5507, s1.loss_bbox: 0.1104, s2.loss_cls: 0.0544, s2.acc: 92.7996, s2.loss_bbox: 0.0670, loss: 0.7682, grad_norm: 2.9233\n",
      "2021-05-19 20:44:59,251 - mmdet - INFO - Epoch [9][150/601]\tlr: 2.000e-02, eta: 1:04:04, time: 0.939, data_time: 0.008, memory: 5810, loss_rpn_cls: 0.0489, loss_rpn_bbox: 0.0354, s0.loss_cls: 0.2394, s0.acc: 92.0205, s0.loss_bbox: 0.1203, s1.loss_cls: 0.1140, s1.acc: 92.3477, s1.loss_bbox: 0.1140, s2.loss_cls: 0.0558, s2.acc: 92.4028, s2.loss_bbox: 0.0664, loss: 0.7942, grad_norm: 3.1937\n",
      "2021-05-19 20:45:46,275 - mmdet - INFO - Epoch [9][200/601]\tlr: 2.000e-02, eta: 1:03:17, time: 0.940, data_time: 0.008, memory: 5810, loss_rpn_cls: 0.0486, loss_rpn_bbox: 0.0337, s0.loss_cls: 0.2434, s0.acc: 91.9922, s0.loss_bbox: 0.1254, s1.loss_cls: 0.1135, s1.acc: 92.6313, s1.loss_bbox: 0.1176, s2.loss_cls: 0.0547, s2.acc: 92.8772, s2.loss_bbox: 0.0719, loss: 0.8089, grad_norm: 3.1407\n",
      "2021-05-19 20:46:33,393 - mmdet - INFO - Epoch [9][250/601]\tlr: 2.000e-02, eta: 1:02:29, time: 0.942, data_time: 0.008, memory: 5810, loss_rpn_cls: 0.0671, loss_rpn_bbox: 0.0365, s0.loss_cls: 0.2790, s0.acc: 91.1016, s0.loss_bbox: 0.1369, s1.loss_cls: 0.1330, s1.acc: 91.4542, s1.loss_bbox: 0.1241, s2.loss_cls: 0.0633, s2.acc: 91.8341, s2.loss_bbox: 0.0708, loss: 0.9108, grad_norm: 3.4419\n",
      "2021-05-19 20:47:20,295 - mmdet - INFO - Epoch [9][300/601]\tlr: 2.000e-02, eta: 1:01:41, time: 0.938, data_time: 0.008, memory: 5810, loss_rpn_cls: 0.0598, loss_rpn_bbox: 0.0391, s0.loss_cls: 0.2790, s0.acc: 90.9971, s0.loss_bbox: 0.1414, s1.loss_cls: 0.1308, s1.acc: 91.6432, s1.loss_bbox: 0.1248, s2.loss_cls: 0.0615, s2.acc: 92.1553, s2.loss_bbox: 0.0702, loss: 0.9066, grad_norm: 3.2219\n",
      "2021-05-19 20:48:07,420 - mmdet - INFO - Epoch [9][350/601]\tlr: 2.000e-02, eta: 1:00:54, time: 0.942, data_time: 0.008, memory: 5810, loss_rpn_cls: 0.0592, loss_rpn_bbox: 0.0323, s0.loss_cls: 0.2504, s0.acc: 91.8604, s0.loss_bbox: 0.1227, s1.loss_cls: 0.1182, s1.acc: 92.3304, s1.loss_bbox: 0.1145, s2.loss_cls: 0.0573, s2.acc: 92.6003, s2.loss_bbox: 0.0674, loss: 0.8220, grad_norm: 3.2388\n",
      "2021-05-19 20:48:54,377 - mmdet - INFO - Epoch [9][400/601]\tlr: 2.000e-02, eta: 1:00:06, time: 0.939, data_time: 0.007, memory: 5810, loss_rpn_cls: 0.0552, loss_rpn_bbox: 0.0358, s0.loss_cls: 0.2583, s0.acc: 91.5410, s0.loss_bbox: 0.1274, s1.loss_cls: 0.1221, s1.acc: 91.9687, s1.loss_bbox: 0.1170, s2.loss_cls: 0.0582, s2.acc: 92.2146, s2.loss_bbox: 0.0653, loss: 0.8392, grad_norm: 3.1658\n",
      "2021-05-19 20:49:41,377 - mmdet - INFO - Epoch [9][450/601]\tlr: 2.000e-02, eta: 0:59:18, time: 0.940, data_time: 0.007, memory: 5810, loss_rpn_cls: 0.0571, loss_rpn_bbox: 0.0393, s0.loss_cls: 0.2543, s0.acc: 91.5059, s0.loss_bbox: 0.1277, s1.loss_cls: 0.1207, s1.acc: 92.0010, s1.loss_bbox: 0.1167, s2.loss_cls: 0.0587, s2.acc: 92.2830, s2.loss_bbox: 0.0688, loss: 0.8434, grad_norm: 3.1470\n",
      "2021-05-19 20:50:28,276 - mmdet - INFO - Epoch [9][500/601]\tlr: 2.000e-02, eta: 0:58:31, time: 0.938, data_time: 0.007, memory: 5810, loss_rpn_cls: 0.0454, loss_rpn_bbox: 0.0315, s0.loss_cls: 0.2491, s0.acc: 91.8428, s0.loss_bbox: 0.1229, s1.loss_cls: 0.1198, s1.acc: 92.3098, s1.loss_bbox: 0.1114, s2.loss_cls: 0.0585, s2.acc: 92.3404, s2.loss_bbox: 0.0665, loss: 0.8053, grad_norm: 3.0340\n",
      "2021-05-19 20:51:15,132 - mmdet - INFO - Epoch [9][550/601]\tlr: 2.000e-02, eta: 0:57:43, time: 0.937, data_time: 0.008, memory: 5810, loss_rpn_cls: 0.0549, loss_rpn_bbox: 0.0375, s0.loss_cls: 0.2391, s0.acc: 92.0000, s0.loss_bbox: 0.1278, s1.loss_cls: 0.1139, s1.acc: 92.4216, s1.loss_bbox: 0.1177, s2.loss_cls: 0.0549, s2.acc: 92.7270, s2.loss_bbox: 0.0687, loss: 0.8146, grad_norm: 3.0142\n",
      "2021-05-19 20:52:02,146 - mmdet - INFO - Epoch [9][600/601]\tlr: 2.000e-02, eta: 0:56:55, time: 0.940, data_time: 0.007, memory: 5810, loss_rpn_cls: 0.0434, loss_rpn_bbox: 0.0273, s0.loss_cls: 0.2262, s0.acc: 92.4873, s0.loss_bbox: 0.1086, s1.loss_cls: 0.1075, s1.acc: 92.8475, s1.loss_bbox: 0.1026, s2.loss_cls: 0.0515, s2.acc: 93.1788, s2.loss_bbox: 0.0614, loss: 0.7286, grad_norm: 3.0512\n",
      "2021-05-19 20:52:03,225 - mmdet - INFO - Saving checkpoint at 9 epochs\n"
     ]
    },
    {
     "name": "stdout",
     "output_type": "stream",
     "text": [
      "[>>>>>>>>>>>>>>>>>>>>>>>>>>>>>>] 655/655, 8.0 task/s, elapsed: 82s, ETA:     0s"
     ]
    },
    {
     "name": "stderr",
     "output_type": "stream",
     "text": [
      "2021-05-19 20:53:28,595 - mmdet - INFO - Evaluating bbox...\n"
     ]
    },
    {
     "name": "stdout",
     "output_type": "stream",
     "text": [
      "Loading and preparing results...\n",
      "DONE (t=0.06s)\n",
      "creating index...\n",
      "index created!\n",
      "Running per image evaluation...\n",
      "Evaluate annotation type *bbox*\n",
      "DONE (t=3.34s).\n",
      "Accumulating evaluation results...\n"
     ]
    },
    {
     "name": "stderr",
     "output_type": "stream",
     "text": [
      "2021-05-19 20:53:32,515 - mmdet - INFO - Now best checkpoint is epoch_9.pth.Best bbox_mAP_50 is 0.2740\n",
      "2021-05-19 20:53:32,520 - mmdet - INFO - Epoch(val) [9][601]\tbbox_mAP: 0.1760, bbox_mAP_50: 0.2740, bbox_mAP_75: 0.1880, bbox_mAP_s: 0.0400, bbox_mAP_m: 0.1490, bbox_mAP_l: 0.3560, bbox_mAP_copypaste: 0.176 0.274 0.188 0.040 0.149 0.356\n"
     ]
    },
    {
     "name": "stdout",
     "output_type": "stream",
     "text": [
      "DONE (t=0.47s).\n",
      "Average Precision  (AP) @[ IoU=0.50:0.95 | area=   all | maxDets=100 ] = 0.176\n",
      "Average Precision  (AP) @[ IoU=0.50      | area=   all | maxDets=1000 ] = 0.274\n",
      "Average Precision  (AP) @[ IoU=0.75      | area=   all | maxDets=1000 ] = 0.188\n",
      "Average Precision  (AP) @[ IoU=0.50:0.95 | area= small | maxDets=1000 ] = 0.040\n",
      "Average Precision  (AP) @[ IoU=0.50:0.95 | area=medium | maxDets=1000 ] = 0.149\n",
      "Average Precision  (AP) @[ IoU=0.50:0.95 | area= large | maxDets=1000 ] = 0.356\n",
      "Average Recall     (AR) @[ IoU=0.50:0.95 | area=   all | maxDets=100 ] = 0.283\n",
      "Average Recall     (AR) @[ IoU=0.50:0.95 | area=   all | maxDets=300 ] = 0.283\n",
      "Average Recall     (AR) @[ IoU=0.50:0.95 | area=   all | maxDets=1000 ] = 0.283\n",
      "Average Recall     (AR) @[ IoU=0.50:0.95 | area= small | maxDets=1000 ] = 0.114\n",
      "Average Recall     (AR) @[ IoU=0.50:0.95 | area=medium | maxDets=1000 ] = 0.257\n",
      "Average Recall     (AR) @[ IoU=0.50:0.95 | area= large | maxDets=1000 ] = 0.521\n"
     ]
    },
    {
     "name": "stderr",
     "output_type": "stream",
     "text": [
      "2021-05-19 20:54:22,121 - mmdet - INFO - Epoch [10][50/601]\tlr: 2.000e-02, eta: 0:56:08, time: 0.992, data_time: 0.054, memory: 5810, loss_rpn_cls: 0.0477, loss_rpn_bbox: 0.0341, s0.loss_cls: 0.2501, s0.acc: 91.5889, s0.loss_bbox: 0.1297, s1.loss_cls: 0.1186, s1.acc: 91.8482, s1.loss_bbox: 0.1206, s2.loss_cls: 0.0573, s2.acc: 92.1694, s2.loss_bbox: 0.0717, loss: 0.8298, grad_norm: 3.3294\n",
      "2021-05-19 20:55:09,236 - mmdet - INFO - Epoch [10][100/601]\tlr: 2.000e-02, eta: 0:55:20, time: 0.942, data_time: 0.008, memory: 5810, loss_rpn_cls: 0.0597, loss_rpn_bbox: 0.0425, s0.loss_cls: 0.2561, s0.acc: 91.5645, s0.loss_bbox: 0.1314, s1.loss_cls: 0.1188, s1.acc: 92.4126, s1.loss_bbox: 0.1205, s2.loss_cls: 0.0574, s2.acc: 92.7587, s2.loss_bbox: 0.0695, loss: 0.8560, grad_norm: 3.3450\n",
      "2021-05-19 20:55:56,157 - mmdet - INFO - Epoch [10][150/601]\tlr: 2.000e-02, eta: 0:54:33, time: 0.938, data_time: 0.008, memory: 5810, loss_rpn_cls: 0.0513, loss_rpn_bbox: 0.0394, s0.loss_cls: 0.2514, s0.acc: 91.4873, s0.loss_bbox: 0.1331, s1.loss_cls: 0.1174, s1.acc: 92.1267, s1.loss_bbox: 0.1227, s2.loss_cls: 0.0569, s2.acc: 92.4915, s2.loss_bbox: 0.0744, loss: 0.8466, grad_norm: 3.2797\n",
      "2021-05-19 20:56:43,146 - mmdet - INFO - Epoch [10][200/601]\tlr: 2.000e-02, eta: 0:53:45, time: 0.940, data_time: 0.008, memory: 5810, loss_rpn_cls: 0.0431, loss_rpn_bbox: 0.0286, s0.loss_cls: 0.2284, s0.acc: 92.3506, s0.loss_bbox: 0.1132, s1.loss_cls: 0.1059, s1.acc: 92.9917, s1.loss_bbox: 0.1080, s2.loss_cls: 0.0534, s2.acc: 92.8397, s2.loss_bbox: 0.0661, loss: 0.7467, grad_norm: 3.3225\n",
      "2021-05-19 20:57:30,162 - mmdet - INFO - Epoch [10][250/601]\tlr: 2.000e-02, eta: 0:52:58, time: 0.940, data_time: 0.007, memory: 5810, loss_rpn_cls: 0.0534, loss_rpn_bbox: 0.0434, s0.loss_cls: 0.2701, s0.acc: 91.1221, s0.loss_bbox: 0.1374, s1.loss_cls: 0.1289, s1.acc: 91.6342, s1.loss_bbox: 0.1249, s2.loss_cls: 0.0617, s2.acc: 92.0356, s2.loss_bbox: 0.0737, loss: 0.8934, grad_norm: 3.2510\n",
      "2021-05-19 20:58:16,832 - mmdet - INFO - Epoch [10][300/601]\tlr: 2.000e-02, eta: 0:52:10, time: 0.933, data_time: 0.007, memory: 5810, loss_rpn_cls: 0.0486, loss_rpn_bbox: 0.0378, s0.loss_cls: 0.2282, s0.acc: 92.4590, s0.loss_bbox: 0.1174, s1.loss_cls: 0.1072, s1.acc: 92.8848, s1.loss_bbox: 0.1089, s2.loss_cls: 0.0525, s2.acc: 93.0709, s2.loss_bbox: 0.0645, loss: 0.7652, grad_norm: 3.0590\n",
      "2021-05-19 20:59:03,500 - mmdet - INFO - Epoch [10][350/601]\tlr: 2.000e-02, eta: 0:51:22, time: 0.933, data_time: 0.007, memory: 5810, loss_rpn_cls: 0.0443, loss_rpn_bbox: 0.0319, s0.loss_cls: 0.2320, s0.acc: 92.2500, s0.loss_bbox: 0.1182, s1.loss_cls: 0.1091, s1.acc: 92.7892, s1.loss_bbox: 0.1097, s2.loss_cls: 0.0525, s2.acc: 92.9546, s2.loss_bbox: 0.0659, loss: 0.7636, grad_norm: 2.9049\n",
      "2021-05-19 20:59:50,559 - mmdet - INFO - Epoch [10][400/601]\tlr: 2.000e-02, eta: 0:50:35, time: 0.941, data_time: 0.007, memory: 5810, loss_rpn_cls: 0.0469, loss_rpn_bbox: 0.0362, s0.loss_cls: 0.2284, s0.acc: 92.4912, s0.loss_bbox: 0.1194, s1.loss_cls: 0.1069, s1.acc: 93.0330, s1.loss_bbox: 0.1113, s2.loss_cls: 0.0536, s2.acc: 93.0410, s2.loss_bbox: 0.0672, loss: 0.7700, grad_norm: 3.2335\n",
      "2021-05-19 21:00:37,625 - mmdet - INFO - Epoch [10][450/601]\tlr: 2.000e-02, eta: 0:49:47, time: 0.941, data_time: 0.008, memory: 5810, loss_rpn_cls: 0.0545, loss_rpn_bbox: 0.0347, s0.loss_cls: 0.2489, s0.acc: 91.8320, s0.loss_bbox: 0.1240, s1.loss_cls: 0.1207, s1.acc: 91.9232, s1.loss_bbox: 0.1107, s2.loss_cls: 0.0592, s2.acc: 92.2765, s2.loss_bbox: 0.0642, loss: 0.8168, grad_norm: 3.4351\n",
      "2021-05-19 21:01:24,716 - mmdet - INFO - Epoch [10][500/601]\tlr: 2.000e-02, eta: 0:49:00, time: 0.942, data_time: 0.008, memory: 5810, loss_rpn_cls: 0.0415, loss_rpn_bbox: 0.0326, s0.loss_cls: 0.2313, s0.acc: 92.3428, s0.loss_bbox: 0.1069, s1.loss_cls: 0.1139, s1.acc: 92.5854, s1.loss_bbox: 0.1023, s2.loss_cls: 0.0565, s2.acc: 92.6677, s2.loss_bbox: 0.0637, loss: 0.7487, grad_norm: 3.2800\n",
      "2021-05-19 21:02:11,940 - mmdet - INFO - Epoch [10][550/601]\tlr: 2.000e-02, eta: 0:48:12, time: 0.944, data_time: 0.008, memory: 5810, loss_rpn_cls: 0.0446, loss_rpn_bbox: 0.0309, s0.loss_cls: 0.2463, s0.acc: 91.8350, s0.loss_bbox: 0.1153, s1.loss_cls: 0.1186, s1.acc: 91.9877, s1.loss_bbox: 0.1111, s2.loss_cls: 0.0576, s2.acc: 92.2312, s2.loss_bbox: 0.0657, loss: 0.7902, grad_norm: 3.3984\n",
      "2021-05-19 21:02:59,208 - mmdet - INFO - Epoch [10][600/601]\tlr: 2.000e-02, eta: 0:47:25, time: 0.945, data_time: 0.008, memory: 5810, loss_rpn_cls: 0.0445, loss_rpn_bbox: 0.0264, s0.loss_cls: 0.2295, s0.acc: 92.5107, s0.loss_bbox: 0.1132, s1.loss_cls: 0.1085, s1.acc: 92.9296, s1.loss_bbox: 0.1045, s2.loss_cls: 0.0514, s2.acc: 93.3361, s2.loss_bbox: 0.0616, loss: 0.7396, grad_norm: 3.1331\n",
      "2021-05-19 21:03:00,266 - mmdet - INFO - Saving checkpoint at 10 epochs\n"
     ]
    },
    {
     "name": "stdout",
     "output_type": "stream",
     "text": [
      "[>>>>>>>>>>>>>>>>>>>>>>>>>>>>>>] 655/655, 8.0 task/s, elapsed: 82s, ETA:     0s"
     ]
    },
    {
     "name": "stderr",
     "output_type": "stream",
     "text": [
      "2021-05-19 21:04:26,435 - mmdet - INFO - Evaluating bbox...\n"
     ]
    },
    {
     "name": "stdout",
     "output_type": "stream",
     "text": [
      "Loading and preparing results...\n",
      "DONE (t=0.08s)\n",
      "creating index...\n",
      "index created!\n",
      "Running per image evaluation...\n",
      "Evaluate annotation type *bbox*\n",
      "DONE (t=4.35s).\n",
      "Accumulating evaluation results...\n"
     ]
    },
    {
     "name": "stderr",
     "output_type": "stream",
     "text": [
      "2021-05-19 21:04:31,486 - mmdet - INFO - Epoch(val) [10][601]\tbbox_mAP: 0.1730, bbox_mAP_50: 0.2650, bbox_mAP_75: 0.1840, bbox_mAP_s: 0.0330, bbox_mAP_m: 0.1480, bbox_mAP_l: 0.3480, bbox_mAP_copypaste: 0.173 0.265 0.184 0.033 0.148 0.348\n"
     ]
    },
    {
     "name": "stdout",
     "output_type": "stream",
     "text": [
      "DONE (t=0.56s).\n",
      "Average Precision  (AP) @[ IoU=0.50:0.95 | area=   all | maxDets=100 ] = 0.173\n",
      "Average Precision  (AP) @[ IoU=0.50      | area=   all | maxDets=1000 ] = 0.265\n",
      "Average Precision  (AP) @[ IoU=0.75      | area=   all | maxDets=1000 ] = 0.184\n",
      "Average Precision  (AP) @[ IoU=0.50:0.95 | area= small | maxDets=1000 ] = 0.033\n",
      "Average Precision  (AP) @[ IoU=0.50:0.95 | area=medium | maxDets=1000 ] = 0.148\n",
      "Average Precision  (AP) @[ IoU=0.50:0.95 | area= large | maxDets=1000 ] = 0.348\n",
      "Average Recall     (AR) @[ IoU=0.50:0.95 | area=   all | maxDets=100 ] = 0.276\n",
      "Average Recall     (AR) @[ IoU=0.50:0.95 | area=   all | maxDets=300 ] = 0.276\n",
      "Average Recall     (AR) @[ IoU=0.50:0.95 | area=   all | maxDets=1000 ] = 0.276\n",
      "Average Recall     (AR) @[ IoU=0.50:0.95 | area= small | maxDets=1000 ] = 0.092\n",
      "Average Recall     (AR) @[ IoU=0.50:0.95 | area=medium | maxDets=1000 ] = 0.257\n",
      "Average Recall     (AR) @[ IoU=0.50:0.95 | area= large | maxDets=1000 ] = 0.523\n"
     ]
    },
    {
     "name": "stderr",
     "output_type": "stream",
     "text": [
      "2021-05-19 21:05:20,714 - mmdet - INFO - Epoch [11][50/601]\tlr: 2.000e-02, eta: 0:46:37, time: 0.984, data_time: 0.052, memory: 5810, loss_rpn_cls: 0.0397, loss_rpn_bbox: 0.0312, s0.loss_cls: 0.2263, s0.acc: 92.4463, s0.loss_bbox: 0.1136, s1.loss_cls: 0.1083, s1.acc: 93.0306, s1.loss_bbox: 0.1075, s2.loss_cls: 0.0532, s2.acc: 92.9285, s2.loss_bbox: 0.0672, loss: 0.7470, grad_norm: 3.3166\n",
      "2021-05-19 21:06:07,583 - mmdet - INFO - Epoch [11][100/601]\tlr: 2.000e-02, eta: 0:45:50, time: 0.937, data_time: 0.007, memory: 5810, loss_rpn_cls: 0.0451, loss_rpn_bbox: 0.0352, s0.loss_cls: 0.2360, s0.acc: 92.0625, s0.loss_bbox: 0.1245, s1.loss_cls: 0.1115, s1.acc: 92.5672, s1.loss_bbox: 0.1168, s2.loss_cls: 0.0546, s2.acc: 92.7147, s2.loss_bbox: 0.0710, loss: 0.7947, grad_norm: 3.2902\n",
      "2021-05-19 21:06:54,634 - mmdet - INFO - Epoch [11][150/601]\tlr: 2.000e-02, eta: 0:45:02, time: 0.941, data_time: 0.007, memory: 5810, loss_rpn_cls: 0.0422, loss_rpn_bbox: 0.0338, s0.loss_cls: 0.2371, s0.acc: 92.0254, s0.loss_bbox: 0.1186, s1.loss_cls: 0.1115, s1.acc: 92.5173, s1.loss_bbox: 0.1091, s2.loss_cls: 0.0542, s2.acc: 92.8402, s2.loss_bbox: 0.0669, loss: 0.7735, grad_norm: 3.1872\n",
      "2021-05-19 21:07:41,765 - mmdet - INFO - Epoch [11][200/601]\tlr: 2.000e-02, eta: 0:44:15, time: 0.943, data_time: 0.007, memory: 5810, loss_rpn_cls: 0.0490, loss_rpn_bbox: 0.0377, s0.loss_cls: 0.2595, s0.acc: 91.2061, s0.loss_bbox: 0.1327, s1.loss_cls: 0.1224, s1.acc: 91.6805, s1.loss_bbox: 0.1223, s2.loss_cls: 0.0596, s2.acc: 91.8533, s2.loss_bbox: 0.0709, loss: 0.8541, grad_norm: 3.4740\n",
      "2021-05-19 21:08:28,694 - mmdet - INFO - Epoch [11][250/601]\tlr: 2.000e-02, eta: 0:43:27, time: 0.939, data_time: 0.007, memory: 5810, loss_rpn_cls: 0.0521, loss_rpn_bbox: 0.0364, s0.loss_cls: 0.2656, s0.acc: 91.1318, s0.loss_bbox: 0.1308, s1.loss_cls: 0.1232, s1.acc: 91.8831, s1.loss_bbox: 0.1185, s2.loss_cls: 0.0589, s2.acc: 92.3072, s2.loss_bbox: 0.0715, loss: 0.8569, grad_norm: 3.3996\n",
      "2021-05-19 21:09:15,717 - mmdet - INFO - Epoch [11][300/601]\tlr: 2.000e-02, eta: 0:42:40, time: 0.940, data_time: 0.007, memory: 5810, loss_rpn_cls: 0.0426, loss_rpn_bbox: 0.0271, s0.loss_cls: 0.2213, s0.acc: 92.8848, s0.loss_bbox: 0.1041, s1.loss_cls: 0.1071, s1.acc: 93.1409, s1.loss_bbox: 0.0961, s2.loss_cls: 0.0529, s2.acc: 93.1192, s2.loss_bbox: 0.0609, loss: 0.7122, grad_norm: 3.4080\n",
      "2021-05-19 21:10:02,757 - mmdet - INFO - Epoch [11][350/601]\tlr: 2.000e-02, eta: 0:41:52, time: 0.941, data_time: 0.007, memory: 5810, loss_rpn_cls: 0.0539, loss_rpn_bbox: 0.0407, s0.loss_cls: 0.2560, s0.acc: 91.2695, s0.loss_bbox: 0.1352, s1.loss_cls: 0.1205, s1.acc: 91.7060, s1.loss_bbox: 0.1210, s2.loss_cls: 0.0588, s2.acc: 92.0831, s2.loss_bbox: 0.0700, loss: 0.8562, grad_norm: 3.5831\n",
      "2021-05-19 21:10:49,833 - mmdet - INFO - Epoch [11][400/601]\tlr: 2.000e-02, eta: 0:41:05, time: 0.941, data_time: 0.008, memory: 5810, loss_rpn_cls: 0.0448, loss_rpn_bbox: 0.0280, s0.loss_cls: 0.2076, s0.acc: 93.1416, s0.loss_bbox: 0.1018, s1.loss_cls: 0.0960, s1.acc: 93.6205, s1.loss_bbox: 0.0970, s2.loss_cls: 0.0464, s2.acc: 93.7713, s2.loss_bbox: 0.0567, loss: 0.6783, grad_norm: 3.4193\n",
      "2021-05-19 21:11:36,705 - mmdet - INFO - Epoch [11][450/601]\tlr: 2.000e-02, eta: 0:40:17, time: 0.937, data_time: 0.007, memory: 5810, loss_rpn_cls: 0.0535, loss_rpn_bbox: 0.0349, s0.loss_cls: 0.2455, s0.acc: 91.8223, s0.loss_bbox: 0.1219, s1.loss_cls: 0.1147, s1.acc: 92.5541, s1.loss_bbox: 0.1147, s2.loss_cls: 0.0543, s2.acc: 92.9400, s2.loss_bbox: 0.0673, loss: 0.8068, grad_norm: 3.3673\n",
      "2021-05-19 21:12:23,848 - mmdet - INFO - Epoch [11][500/601]\tlr: 2.000e-02, eta: 0:39:30, time: 0.943, data_time: 0.007, memory: 5810, loss_rpn_cls: 0.0520, loss_rpn_bbox: 0.0386, s0.loss_cls: 0.2367, s0.acc: 92.1064, s0.loss_bbox: 0.1204, s1.loss_cls: 0.1110, s1.acc: 92.5053, s1.loss_bbox: 0.1105, s2.loss_cls: 0.0539, s2.acc: 92.6689, s2.loss_bbox: 0.0631, loss: 0.7862, grad_norm: 2.9518\n",
      "2021-05-19 21:13:10,594 - mmdet - INFO - Epoch [11][550/601]\tlr: 2.000e-02, eta: 0:38:43, time: 0.935, data_time: 0.007, memory: 5810, loss_rpn_cls: 0.0445, loss_rpn_bbox: 0.0297, s0.loss_cls: 0.2185, s0.acc: 92.7529, s0.loss_bbox: 0.1125, s1.loss_cls: 0.1039, s1.acc: 93.3158, s1.loss_bbox: 0.1034, s2.loss_cls: 0.0502, s2.acc: 93.2681, s2.loss_bbox: 0.0625, loss: 0.7254, grad_norm: 3.1293\n",
      "2021-05-19 21:13:57,512 - mmdet - INFO - Epoch [11][600/601]\tlr: 2.000e-02, eta: 0:37:55, time: 0.938, data_time: 0.007, memory: 5810, loss_rpn_cls: 0.0424, loss_rpn_bbox: 0.0316, s0.loss_cls: 0.2288, s0.acc: 92.4395, s0.loss_bbox: 0.1207, s1.loss_cls: 0.1072, s1.acc: 92.9966, s1.loss_bbox: 0.1080, s2.loss_cls: 0.0525, s2.acc: 93.0661, s2.loss_bbox: 0.0645, loss: 0.7557, grad_norm: 3.2389\n",
      "2021-05-19 21:13:58,549 - mmdet - INFO - Saving checkpoint at 11 epochs\n"
     ]
    },
    {
     "name": "stdout",
     "output_type": "stream",
     "text": [
      "[>>>>>>>>>>>>>>>>>>>>>>>>>>>>>>] 655/655, 8.1 task/s, elapsed: 80s, ETA:     0s"
     ]
    },
    {
     "name": "stderr",
     "output_type": "stream",
     "text": [
      "2021-05-19 21:15:22,277 - mmdet - INFO - Evaluating bbox...\n"
     ]
    },
    {
     "name": "stdout",
     "output_type": "stream",
     "text": [
      "Loading and preparing results...\n",
      "DONE (t=0.62s)\n",
      "creating index...\n",
      "index created!\n",
      "Running per image evaluation...\n",
      "Evaluate annotation type *bbox*\n",
      "DONE (t=4.23s).\n",
      "Accumulating evaluation results...\n"
     ]
    },
    {
     "name": "stderr",
     "output_type": "stream",
     "text": [
      "2021-05-19 21:15:27,832 - mmdet - INFO - Epoch(val) [11][601]\tbbox_mAP: 0.1740, bbox_mAP_50: 0.2720, bbox_mAP_75: 0.1840, bbox_mAP_s: 0.0420, bbox_mAP_m: 0.1420, bbox_mAP_l: 0.3550, bbox_mAP_copypaste: 0.174 0.272 0.184 0.042 0.142 0.355\n"
     ]
    },
    {
     "name": "stdout",
     "output_type": "stream",
     "text": [
      "DONE (t=0.64s).\n",
      "Average Precision  (AP) @[ IoU=0.50:0.95 | area=   all | maxDets=100 ] = 0.174\n",
      "Average Precision  (AP) @[ IoU=0.50      | area=   all | maxDets=1000 ] = 0.272\n",
      "Average Precision  (AP) @[ IoU=0.75      | area=   all | maxDets=1000 ] = 0.184\n",
      "Average Precision  (AP) @[ IoU=0.50:0.95 | area= small | maxDets=1000 ] = 0.042\n",
      "Average Precision  (AP) @[ IoU=0.50:0.95 | area=medium | maxDets=1000 ] = 0.142\n",
      "Average Precision  (AP) @[ IoU=0.50:0.95 | area= large | maxDets=1000 ] = 0.355\n",
      "Average Recall     (AR) @[ IoU=0.50:0.95 | area=   all | maxDets=100 ] = 0.307\n",
      "Average Recall     (AR) @[ IoU=0.50:0.95 | area=   all | maxDets=300 ] = 0.307\n",
      "Average Recall     (AR) @[ IoU=0.50:0.95 | area=   all | maxDets=1000 ] = 0.307\n",
      "Average Recall     (AR) @[ IoU=0.50:0.95 | area= small | maxDets=1000 ] = 0.143\n",
      "Average Recall     (AR) @[ IoU=0.50:0.95 | area=medium | maxDets=1000 ] = 0.283\n",
      "Average Recall     (AR) @[ IoU=0.50:0.95 | area= large | maxDets=1000 ] = 0.538\n"
     ]
    },
    {
     "name": "stderr",
     "output_type": "stream",
     "text": [
      "2021-05-19 21:16:17,335 - mmdet - INFO - Epoch [12][50/601]\tlr: 2.000e-02, eta: 0:37:07, time: 0.990, data_time: 0.053, memory: 5810, loss_rpn_cls: 0.0412, loss_rpn_bbox: 0.0322, s0.loss_cls: 0.2151, s0.acc: 92.7568, s0.loss_bbox: 0.1113, s1.loss_cls: 0.1007, s1.acc: 93.1787, s1.loss_bbox: 0.1067, s2.loss_cls: 0.0502, s2.acc: 93.2904, s2.loss_bbox: 0.0656, loss: 0.7229, grad_norm: 3.0601\n",
      "2021-05-19 21:17:04,309 - mmdet - INFO - Epoch [12][100/601]\tlr: 2.000e-02, eta: 0:36:20, time: 0.939, data_time: 0.007, memory: 5810, loss_rpn_cls: 0.0390, loss_rpn_bbox: 0.0350, s0.loss_cls: 0.2219, s0.acc: 92.4561, s0.loss_bbox: 0.1179, s1.loss_cls: 0.1026, s1.acc: 93.1338, s1.loss_bbox: 0.1131, s2.loss_cls: 0.0511, s2.acc: 93.1220, s2.loss_bbox: 0.0719, loss: 0.7526, grad_norm: 3.2087\n",
      "2021-05-19 21:17:50,882 - mmdet - INFO - Epoch [12][150/601]\tlr: 2.000e-02, eta: 0:35:32, time: 0.931, data_time: 0.007, memory: 5810, loss_rpn_cls: 0.0498, loss_rpn_bbox: 0.0306, s0.loss_cls: 0.2271, s0.acc: 92.4668, s0.loss_bbox: 0.1138, s1.loss_cls: 0.1071, s1.acc: 92.9072, s1.loss_bbox: 0.1052, s2.loss_cls: 0.0538, s2.acc: 92.9495, s2.loss_bbox: 0.0636, loss: 0.7510, grad_norm: 3.4888\n",
      "2021-05-19 21:18:37,844 - mmdet - INFO - Epoch [12][200/601]\tlr: 2.000e-02, eta: 0:34:45, time: 0.939, data_time: 0.007, memory: 5810, loss_rpn_cls: 0.0492, loss_rpn_bbox: 0.0366, s0.loss_cls: 0.2251, s0.acc: 92.3975, s0.loss_bbox: 0.1178, s1.loss_cls: 0.1034, s1.acc: 93.0050, s1.loss_bbox: 0.1086, s2.loss_cls: 0.0512, s2.acc: 93.1569, s2.loss_bbox: 0.0665, loss: 0.7584, grad_norm: 3.6501\n",
      "2021-05-19 21:19:24,729 - mmdet - INFO - Epoch [12][250/601]\tlr: 2.000e-02, eta: 0:33:57, time: 0.938, data_time: 0.007, memory: 5810, loss_rpn_cls: 0.0286, loss_rpn_bbox: 0.0287, s0.loss_cls: 0.1798, s0.acc: 93.7705, s0.loss_bbox: 0.1013, s1.loss_cls: 0.0862, s1.acc: 94.0981, s1.loss_bbox: 0.0988, s2.loss_cls: 0.0428, s2.acc: 94.1867, s2.loss_bbox: 0.0612, loss: 0.6273, grad_norm: 3.1228\n",
      "2021-05-19 21:20:11,731 - mmdet - INFO - Epoch [12][300/601]\tlr: 2.000e-02, eta: 0:33:10, time: 0.940, data_time: 0.007, memory: 5810, loss_rpn_cls: 0.0404, loss_rpn_bbox: 0.0294, s0.loss_cls: 0.2246, s0.acc: 92.3936, s0.loss_bbox: 0.1160, s1.loss_cls: 0.1045, s1.acc: 93.0431, s1.loss_bbox: 0.1088, s2.loss_cls: 0.0514, s2.acc: 93.1638, s2.loss_bbox: 0.0671, loss: 0.7422, grad_norm: 3.3493\n",
      "2021-05-19 21:20:58,653 - mmdet - INFO - Epoch [12][350/601]\tlr: 2.000e-02, eta: 0:32:23, time: 0.938, data_time: 0.007, memory: 5810, loss_rpn_cls: 0.0426, loss_rpn_bbox: 0.0331, s0.loss_cls: 0.2423, s0.acc: 91.9502, s0.loss_bbox: 0.1160, s1.loss_cls: 0.1168, s1.acc: 92.4231, s1.loss_bbox: 0.1092, s2.loss_cls: 0.0585, s2.acc: 92.1607, s2.loss_bbox: 0.0655, loss: 0.7840, grad_norm: 3.5112\n",
      "2021-05-19 21:21:45,685 - mmdet - INFO - Epoch [12][400/601]\tlr: 2.000e-02, eta: 0:31:35, time: 0.941, data_time: 0.007, memory: 5810, loss_rpn_cls: 0.0436, loss_rpn_bbox: 0.0395, s0.loss_cls: 0.2324, s0.acc: 92.2090, s0.loss_bbox: 0.1180, s1.loss_cls: 0.1105, s1.acc: 92.6919, s1.loss_bbox: 0.1090, s2.loss_cls: 0.0535, s2.acc: 92.9912, s2.loss_bbox: 0.0654, loss: 0.7718, grad_norm: 3.2556\n",
      "2021-05-19 21:22:32,674 - mmdet - INFO - Epoch [12][450/601]\tlr: 2.000e-02, eta: 0:30:48, time: 0.940, data_time: 0.007, memory: 5810, loss_rpn_cls: 0.0391, loss_rpn_bbox: 0.0310, s0.loss_cls: 0.2288, s0.acc: 92.2393, s0.loss_bbox: 0.1152, s1.loss_cls: 0.1081, s1.acc: 92.8485, s1.loss_bbox: 0.1104, s2.loss_cls: 0.0536, s2.acc: 92.7874, s2.loss_bbox: 0.0683, loss: 0.7545, grad_norm: 3.5010\n",
      "2021-05-19 21:23:19,803 - mmdet - INFO - Epoch [12][500/601]\tlr: 2.000e-02, eta: 0:30:00, time: 0.943, data_time: 0.007, memory: 5810, loss_rpn_cls: 0.0525, loss_rpn_bbox: 0.0353, s0.loss_cls: 0.2505, s0.acc: 91.6016, s0.loss_bbox: 0.1274, s1.loss_cls: 0.1148, s1.acc: 92.3763, s1.loss_bbox: 0.1165, s2.loss_cls: 0.0549, s2.acc: 92.7217, s2.loss_bbox: 0.0696, loss: 0.8217, grad_norm: 3.5753\n",
      "2021-05-19 21:24:06,818 - mmdet - INFO - Epoch [12][550/601]\tlr: 2.000e-02, eta: 0:29:13, time: 0.940, data_time: 0.007, memory: 5810, loss_rpn_cls: 0.0443, loss_rpn_bbox: 0.0337, s0.loss_cls: 0.2255, s0.acc: 92.5410, s0.loss_bbox: 0.1117, s1.loss_cls: 0.1067, s1.acc: 93.0891, s1.loss_bbox: 0.1055, s2.loss_cls: 0.0535, s2.acc: 92.9288, s2.loss_bbox: 0.0665, loss: 0.7473, grad_norm: 3.2650\n",
      "2021-05-19 21:24:53,695 - mmdet - INFO - Epoch [12][600/601]\tlr: 2.000e-02, eta: 0:28:26, time: 0.938, data_time: 0.007, memory: 5810, loss_rpn_cls: 0.0375, loss_rpn_bbox: 0.0299, s0.loss_cls: 0.2066, s0.acc: 93.0898, s0.loss_bbox: 0.1006, s1.loss_cls: 0.0990, s1.acc: 93.4225, s1.loss_bbox: 0.0943, s2.loss_cls: 0.0487, s2.acc: 93.6873, s2.loss_bbox: 0.0596, loss: 0.6762, grad_norm: 3.0882\n",
      "2021-05-19 21:24:54,750 - mmdet - INFO - Saving checkpoint at 12 epochs\n"
     ]
    },
    {
     "name": "stdout",
     "output_type": "stream",
     "text": [
      "[>>>>>>>>>>>>>>>>>>>>>>>>>>>>>>] 655/655, 8.1 task/s, elapsed: 81s, ETA:     0s"
     ]
    },
    {
     "name": "stderr",
     "output_type": "stream",
     "text": [
      "2021-05-19 21:26:18,906 - mmdet - INFO - Evaluating bbox...\n"
     ]
    },
    {
     "name": "stdout",
     "output_type": "stream",
     "text": [
      "Loading and preparing results...\n",
      "DONE (t=0.63s)\n",
      "creating index...\n",
      "index created!\n",
      "Running per image evaluation...\n",
      "Evaluate annotation type *bbox*\n",
      "DONE (t=4.62s).\n",
      "Accumulating evaluation results...\n"
     ]
    },
    {
     "name": "stderr",
     "output_type": "stream",
     "text": [
      "2021-05-19 21:26:24,911 - mmdet - INFO - Epoch(val) [12][601]\tbbox_mAP: 0.1750, bbox_mAP_50: 0.2650, bbox_mAP_75: 0.1860, bbox_mAP_s: 0.0270, bbox_mAP_m: 0.1480, bbox_mAP_l: 0.3610, bbox_mAP_copypaste: 0.175 0.265 0.186 0.027 0.148 0.361\n"
     ]
    },
    {
     "name": "stdout",
     "output_type": "stream",
     "text": [
      "DONE (t=0.68s).\n",
      "Average Precision  (AP) @[ IoU=0.50:0.95 | area=   all | maxDets=100 ] = 0.175\n",
      "Average Precision  (AP) @[ IoU=0.50      | area=   all | maxDets=1000 ] = 0.265\n",
      "Average Precision  (AP) @[ IoU=0.75      | area=   all | maxDets=1000 ] = 0.186\n",
      "Average Precision  (AP) @[ IoU=0.50:0.95 | area= small | maxDets=1000 ] = 0.027\n",
      "Average Precision  (AP) @[ IoU=0.50:0.95 | area=medium | maxDets=1000 ] = 0.148\n",
      "Average Precision  (AP) @[ IoU=0.50:0.95 | area= large | maxDets=1000 ] = 0.361\n",
      "Average Recall     (AR) @[ IoU=0.50:0.95 | area=   all | maxDets=100 ] = 0.302\n",
      "Average Recall     (AR) @[ IoU=0.50:0.95 | area=   all | maxDets=300 ] = 0.302\n",
      "Average Recall     (AR) @[ IoU=0.50:0.95 | area=   all | maxDets=1000 ] = 0.302\n",
      "Average Recall     (AR) @[ IoU=0.50:0.95 | area= small | maxDets=1000 ] = 0.120\n",
      "Average Recall     (AR) @[ IoU=0.50:0.95 | area=medium | maxDets=1000 ] = 0.279\n",
      "Average Recall     (AR) @[ IoU=0.50:0.95 | area= large | maxDets=1000 ] = 0.549\n"
     ]
    },
    {
     "name": "stderr",
     "output_type": "stream",
     "text": [
      "2021-05-19 21:27:14,055 - mmdet - INFO - Epoch [13][50/601]\tlr: 2.000e-02, eta: 0:27:38, time: 0.983, data_time: 0.053, memory: 5810, loss_rpn_cls: 0.0336, loss_rpn_bbox: 0.0285, s0.loss_cls: 0.1989, s0.acc: 93.2607, s0.loss_bbox: 0.0976, s1.loss_cls: 0.0947, s1.acc: 93.7820, s1.loss_bbox: 0.0954, s2.loss_cls: 0.0472, s2.acc: 93.8542, s2.loss_bbox: 0.0612, loss: 0.6570, grad_norm: 3.2536\n",
      "2021-05-19 21:28:00,926 - mmdet - INFO - Epoch [13][100/601]\tlr: 2.000e-02, eta: 0:26:50, time: 0.937, data_time: 0.007, memory: 5810, loss_rpn_cls: 0.0399, loss_rpn_bbox: 0.0297, s0.loss_cls: 0.1938, s0.acc: 93.5176, s0.loss_bbox: 0.1045, s1.loss_cls: 0.0880, s1.acc: 94.2188, s1.loss_bbox: 0.0982, s2.loss_cls: 0.0432, s2.acc: 94.4396, s2.loss_bbox: 0.0633, loss: 0.6606, grad_norm: 3.0875\n",
      "2021-05-19 21:28:47,646 - mmdet - INFO - Epoch [13][150/601]\tlr: 2.000e-02, eta: 0:26:03, time: 0.934, data_time: 0.007, memory: 5810, loss_rpn_cls: 0.0329, loss_rpn_bbox: 0.0309, s0.loss_cls: 0.2035, s0.acc: 92.8818, s0.loss_bbox: 0.1085, s1.loss_cls: 0.0930, s1.acc: 93.7203, s1.loss_bbox: 0.1023, s2.loss_cls: 0.0467, s2.acc: 93.8094, s2.loss_bbox: 0.0621, loss: 0.6799, grad_norm: 3.2228\n",
      "2021-05-19 21:29:34,718 - mmdet - INFO - Epoch [13][200/601]\tlr: 2.000e-02, eta: 0:25:16, time: 0.941, data_time: 0.007, memory: 5810, loss_rpn_cls: 0.0354, loss_rpn_bbox: 0.0326, s0.loss_cls: 0.2143, s0.acc: 93.0166, s0.loss_bbox: 0.1068, s1.loss_cls: 0.1001, s1.acc: 93.4956, s1.loss_bbox: 0.1004, s2.loss_cls: 0.0498, s2.acc: 93.5213, s2.loss_bbox: 0.0609, loss: 0.7004, grad_norm: 3.2061\n",
      "2021-05-19 21:30:22,120 - mmdet - INFO - Epoch [13][250/601]\tlr: 2.000e-02, eta: 0:24:28, time: 0.948, data_time: 0.008, memory: 5810, loss_rpn_cls: 0.0432, loss_rpn_bbox: 0.0315, s0.loss_cls: 0.2254, s0.acc: 92.3779, s0.loss_bbox: 0.1183, s1.loss_cls: 0.1028, s1.acc: 93.1254, s1.loss_bbox: 0.1094, s2.loss_cls: 0.0514, s2.acc: 93.0929, s2.loss_bbox: 0.0663, loss: 0.7482, grad_norm: 3.4817\n",
      "2021-05-19 21:31:09,279 - mmdet - INFO - Epoch [13][300/601]\tlr: 2.000e-02, eta: 0:23:41, time: 0.943, data_time: 0.007, memory: 5810, loss_rpn_cls: 0.0418, loss_rpn_bbox: 0.0341, s0.loss_cls: 0.2163, s0.acc: 92.6338, s0.loss_bbox: 0.1125, s1.loss_cls: 0.1002, s1.acc: 93.3346, s1.loss_bbox: 0.1049, s2.loss_cls: 0.0493, s2.acc: 93.5244, s2.loss_bbox: 0.0637, loss: 0.7227, grad_norm: 3.3926\n",
      "2021-05-19 21:31:56,117 - mmdet - INFO - Epoch [13][350/601]\tlr: 2.000e-02, eta: 0:22:54, time: 0.937, data_time: 0.008, memory: 5810, loss_rpn_cls: 0.0362, loss_rpn_bbox: 0.0314, s0.loss_cls: 0.2078, s0.acc: 92.9814, s0.loss_bbox: 0.1101, s1.loss_cls: 0.0959, s1.acc: 93.6008, s1.loss_bbox: 0.1079, s2.loss_cls: 0.0479, s2.acc: 93.6405, s2.loss_bbox: 0.0687, loss: 0.7057, grad_norm: 3.2932\n",
      "2021-05-19 21:32:43,029 - mmdet - INFO - Epoch [13][400/601]\tlr: 2.000e-02, eta: 0:22:06, time: 0.938, data_time: 0.007, memory: 5810, loss_rpn_cls: 0.0481, loss_rpn_bbox: 0.0399, s0.loss_cls: 0.2094, s0.acc: 93.0117, s0.loss_bbox: 0.1084, s1.loss_cls: 0.0974, s1.acc: 93.6955, s1.loss_bbox: 0.1031, s2.loss_cls: 0.0484, s2.acc: 93.5771, s2.loss_bbox: 0.0644, loss: 0.7191, grad_norm: 3.4831\n",
      "2021-05-19 21:33:30,091 - mmdet - INFO - Epoch [13][450/601]\tlr: 2.000e-02, eta: 0:21:19, time: 0.941, data_time: 0.007, memory: 5810, loss_rpn_cls: 0.0472, loss_rpn_bbox: 0.0342, s0.loss_cls: 0.2438, s0.acc: 91.8662, s0.loss_bbox: 0.1221, s1.loss_cls: 0.1137, s1.acc: 92.4853, s1.loss_bbox: 0.1115, s2.loss_cls: 0.0554, s2.acc: 92.7831, s2.loss_bbox: 0.0649, loss: 0.7929, grad_norm: 3.8062\n",
      "2021-05-19 21:34:17,082 - mmdet - INFO - Epoch [13][500/601]\tlr: 2.000e-02, eta: 0:20:32, time: 0.940, data_time: 0.007, memory: 5810, loss_rpn_cls: 0.0382, loss_rpn_bbox: 0.0300, s0.loss_cls: 0.2235, s0.acc: 92.6172, s0.loss_bbox: 0.1151, s1.loss_cls: 0.1042, s1.acc: 93.1586, s1.loss_bbox: 0.1096, s2.loss_cls: 0.0512, s2.acc: 93.3575, s2.loss_bbox: 0.0644, loss: 0.7363, grad_norm: 3.4194\n",
      "2021-05-19 21:35:04,074 - mmdet - INFO - Epoch [13][550/601]\tlr: 2.000e-02, eta: 0:19:44, time: 0.940, data_time: 0.008, memory: 5810, loss_rpn_cls: 0.0563, loss_rpn_bbox: 0.0340, s0.loss_cls: 0.2140, s0.acc: 92.7471, s0.loss_bbox: 0.1082, s1.loss_cls: 0.1025, s1.acc: 93.1312, s1.loss_bbox: 0.1030, s2.loss_cls: 0.0512, s2.acc: 93.2169, s2.loss_bbox: 0.0646, loss: 0.7338, grad_norm: 3.6168\n",
      "2021-05-19 21:35:51,289 - mmdet - INFO - Epoch [13][600/601]\tlr: 2.000e-02, eta: 0:18:57, time: 0.944, data_time: 0.007, memory: 5810, loss_rpn_cls: 0.0406, loss_rpn_bbox: 0.0334, s0.loss_cls: 0.2239, s0.acc: 92.3340, s0.loss_bbox: 0.1123, s1.loss_cls: 0.1072, s1.acc: 92.6019, s1.loss_bbox: 0.1054, s2.loss_cls: 0.0534, s2.acc: 92.7665, s2.loss_bbox: 0.0654, loss: 0.7415, grad_norm: 3.4962\n",
      "2021-05-19 21:35:52,336 - mmdet - INFO - Saving checkpoint at 13 epochs\n"
     ]
    },
    {
     "name": "stdout",
     "output_type": "stream",
     "text": [
      "[>>>>>>>>>>>>>>>>>>>>>>>>>>>>>>] 655/655, 8.1 task/s, elapsed: 80s, ETA:     0s"
     ]
    },
    {
     "name": "stderr",
     "output_type": "stream",
     "text": [
      "2021-05-19 21:37:16,617 - mmdet - INFO - Evaluating bbox...\n"
     ]
    },
    {
     "name": "stdout",
     "output_type": "stream",
     "text": [
      "Loading and preparing results...\n",
      "DONE (t=0.08s)\n",
      "creating index...\n",
      "index created!\n",
      "Running per image evaluation...\n",
      "Evaluate annotation type *bbox*\n",
      "DONE (t=3.53s).\n",
      "Accumulating evaluation results...\n"
     ]
    },
    {
     "name": "stderr",
     "output_type": "stream",
     "text": [
      "2021-05-19 21:37:20,811 - mmdet - INFO - Epoch(val) [13][601]\tbbox_mAP: 0.1610, bbox_mAP_50: 0.2490, bbox_mAP_75: 0.1700, bbox_mAP_s: 0.0370, bbox_mAP_m: 0.1380, bbox_mAP_l: 0.3200, bbox_mAP_copypaste: 0.161 0.249 0.170 0.037 0.138 0.320\n"
     ]
    },
    {
     "name": "stdout",
     "output_type": "stream",
     "text": [
      "DONE (t=0.53s).\n",
      "Average Precision  (AP) @[ IoU=0.50:0.95 | area=   all | maxDets=100 ] = 0.161\n",
      "Average Precision  (AP) @[ IoU=0.50      | area=   all | maxDets=1000 ] = 0.249\n",
      "Average Precision  (AP) @[ IoU=0.75      | area=   all | maxDets=1000 ] = 0.170\n",
      "Average Precision  (AP) @[ IoU=0.50:0.95 | area= small | maxDets=1000 ] = 0.037\n",
      "Average Precision  (AP) @[ IoU=0.50:0.95 | area=medium | maxDets=1000 ] = 0.138\n",
      "Average Precision  (AP) @[ IoU=0.50:0.95 | area= large | maxDets=1000 ] = 0.320\n",
      "Average Recall     (AR) @[ IoU=0.50:0.95 | area=   all | maxDets=100 ] = 0.274\n",
      "Average Recall     (AR) @[ IoU=0.50:0.95 | area=   all | maxDets=300 ] = 0.274\n",
      "Average Recall     (AR) @[ IoU=0.50:0.95 | area=   all | maxDets=1000 ] = 0.274\n",
      "Average Recall     (AR) @[ IoU=0.50:0.95 | area= small | maxDets=1000 ] = 0.108\n",
      "Average Recall     (AR) @[ IoU=0.50:0.95 | area=medium | maxDets=1000 ] = 0.248\n",
      "Average Recall     (AR) @[ IoU=0.50:0.95 | area= large | maxDets=1000 ] = 0.495\n"
     ]
    },
    {
     "name": "stderr",
     "output_type": "stream",
     "text": [
      "2021-05-19 21:38:10,430 - mmdet - INFO - Epoch [14][50/601]\tlr: 2.000e-02, eta: 0:18:09, time: 0.992, data_time: 0.053, memory: 5810, loss_rpn_cls: 0.0354, loss_rpn_bbox: 0.0357, s0.loss_cls: 0.2005, s0.acc: 93.1973, s0.loss_bbox: 0.1084, s1.loss_cls: 0.0910, s1.acc: 93.7788, s1.loss_bbox: 0.1030, s2.loss_cls: 0.0460, s2.acc: 93.8894, s2.loss_bbox: 0.0618, loss: 0.6818, grad_norm: 3.1509\n",
      "2021-05-19 21:38:57,805 - mmdet - INFO - Epoch [14][100/601]\tlr: 2.000e-02, eta: 0:17:22, time: 0.948, data_time: 0.008, memory: 5810, loss_rpn_cls: 0.0367, loss_rpn_bbox: 0.0313, s0.loss_cls: 0.2133, s0.acc: 92.8330, s0.loss_bbox: 0.1116, s1.loss_cls: 0.0983, s1.acc: 93.5689, s1.loss_bbox: 0.1054, s2.loss_cls: 0.0495, s2.acc: 93.6217, s2.loss_bbox: 0.0654, loss: 0.7115, grad_norm: 3.4846\n",
      "2021-05-19 21:39:45,132 - mmdet - INFO - Epoch [14][150/601]\tlr: 2.000e-02, eta: 0:16:34, time: 0.946, data_time: 0.008, memory: 5810, loss_rpn_cls: 0.0353, loss_rpn_bbox: 0.0314, s0.loss_cls: 0.2099, s0.acc: 92.7354, s0.loss_bbox: 0.1127, s1.loss_cls: 0.0956, s1.acc: 93.4736, s1.loss_bbox: 0.1099, s2.loss_cls: 0.0466, s2.acc: 93.6600, s2.loss_bbox: 0.0695, loss: 0.7108, grad_norm: 3.4984\n",
      "2021-05-19 21:40:32,355 - mmdet - INFO - Epoch [14][200/601]\tlr: 2.000e-02, eta: 0:15:47, time: 0.944, data_time: 0.008, memory: 5810, loss_rpn_cls: 0.0388, loss_rpn_bbox: 0.0292, s0.loss_cls: 0.1966, s0.acc: 93.3057, s0.loss_bbox: 0.1069, s1.loss_cls: 0.0888, s1.acc: 93.9418, s1.loss_bbox: 0.1000, s2.loss_cls: 0.0448, s2.acc: 94.0494, s2.loss_bbox: 0.0617, loss: 0.6668, grad_norm: 3.4561\n",
      "2021-05-19 21:41:19,473 - mmdet - INFO - Epoch [14][250/601]\tlr: 2.000e-02, eta: 0:15:00, time: 0.942, data_time: 0.008, memory: 5810, loss_rpn_cls: 0.0498, loss_rpn_bbox: 0.0337, s0.loss_cls: 0.2189, s0.acc: 92.6074, s0.loss_bbox: 0.1038, s1.loss_cls: 0.1041, s1.acc: 93.0333, s1.loss_bbox: 0.0989, s2.loss_cls: 0.0509, s2.acc: 93.1623, s2.loss_bbox: 0.0615, loss: 0.7216, grad_norm: 3.6114\n",
      "2021-05-19 21:42:05,993 - mmdet - INFO - Epoch [14][300/601]\tlr: 2.000e-02, eta: 0:14:12, time: 0.930, data_time: 0.007, memory: 5810, loss_rpn_cls: 0.0357, loss_rpn_bbox: 0.0223, s0.loss_cls: 0.1899, s0.acc: 93.6055, s0.loss_bbox: 0.0885, s1.loss_cls: 0.0893, s1.acc: 94.1628, s1.loss_bbox: 0.0872, s2.loss_cls: 0.0445, s2.acc: 94.1805, s2.loss_bbox: 0.0554, loss: 0.6129, grad_norm: 3.4171\n",
      "2021-05-19 21:42:52,811 - mmdet - INFO - Epoch [14][350/601]\tlr: 2.000e-02, eta: 0:13:25, time: 0.936, data_time: 0.007, memory: 5810, loss_rpn_cls: 0.0449, loss_rpn_bbox: 0.0384, s0.loss_cls: 0.2264, s0.acc: 92.5957, s0.loss_bbox: 0.1174, s1.loss_cls: 0.1077, s1.acc: 93.1726, s1.loss_bbox: 0.1095, s2.loss_cls: 0.0540, s2.acc: 93.2977, s2.loss_bbox: 0.0684, loss: 0.7668, grad_norm: 3.4697\n",
      "2021-05-19 21:43:39,901 - mmdet - INFO - Epoch [14][400/601]\tlr: 2.000e-02, eta: 0:12:38, time: 0.942, data_time: 0.008, memory: 5810, loss_rpn_cls: 0.0384, loss_rpn_bbox: 0.0314, s0.loss_cls: 0.2116, s0.acc: 92.8369, s0.loss_bbox: 0.1100, s1.loss_cls: 0.1001, s1.acc: 93.4341, s1.loss_bbox: 0.1073, s2.loss_cls: 0.0506, s2.acc: 93.3678, s2.loss_bbox: 0.0668, loss: 0.7162, grad_norm: 3.3644\n",
      "2021-05-19 21:44:26,724 - mmdet - INFO - Epoch [14][450/601]\tlr: 2.000e-02, eta: 0:11:50, time: 0.936, data_time: 0.007, memory: 5810, loss_rpn_cls: 0.0373, loss_rpn_bbox: 0.0283, s0.loss_cls: 0.2036, s0.acc: 92.9385, s0.loss_bbox: 0.1084, s1.loss_cls: 0.0962, s1.acc: 93.6138, s1.loss_bbox: 0.1016, s2.loss_cls: 0.0492, s2.acc: 93.6166, s2.loss_bbox: 0.0640, loss: 0.6886, grad_norm: 3.2951\n",
      "2021-05-19 21:45:13,908 - mmdet - INFO - Epoch [14][500/601]\tlr: 2.000e-02, eta: 0:11:03, time: 0.944, data_time: 0.007, memory: 5810, loss_rpn_cls: 0.0393, loss_rpn_bbox: 0.0324, s0.loss_cls: 0.2277, s0.acc: 92.1631, s0.loss_bbox: 0.1218, s1.loss_cls: 0.1061, s1.acc: 92.8410, s1.loss_bbox: 0.1128, s2.loss_cls: 0.0523, s2.acc: 93.1761, s2.loss_bbox: 0.0696, loss: 0.7620, grad_norm: 3.5551\n",
      "2021-05-19 21:46:01,197 - mmdet - INFO - Epoch [14][550/601]\tlr: 2.000e-02, eta: 0:10:16, time: 0.946, data_time: 0.007, memory: 5810, loss_rpn_cls: 0.0396, loss_rpn_bbox: 0.0349, s0.loss_cls: 0.2231, s0.acc: 92.5977, s0.loss_bbox: 0.1135, s1.loss_cls: 0.1042, s1.acc: 93.2070, s1.loss_bbox: 0.1074, s2.loss_cls: 0.0514, s2.acc: 93.3150, s2.loss_bbox: 0.0655, loss: 0.7396, grad_norm: 3.6264\n",
      "2021-05-19 21:46:48,460 - mmdet - INFO - Epoch [14][600/601]\tlr: 2.000e-02, eta: 0:09:29, time: 0.945, data_time: 0.007, memory: 5810, loss_rpn_cls: 0.0352, loss_rpn_bbox: 0.0289, s0.loss_cls: 0.1873, s0.acc: 93.6309, s0.loss_bbox: 0.1047, s1.loss_cls: 0.0833, s1.acc: 94.3870, s1.loss_bbox: 0.0973, s2.loss_cls: 0.0411, s2.acc: 94.6487, s2.loss_bbox: 0.0615, loss: 0.6393, grad_norm: 3.2996\n",
      "2021-05-19 21:46:49,512 - mmdet - INFO - Saving checkpoint at 14 epochs\n"
     ]
    },
    {
     "name": "stdout",
     "output_type": "stream",
     "text": [
      "[>>>>>>>>>>>>>>>>>>>>>>>>>>>>>>] 655/655, 8.0 task/s, elapsed: 82s, ETA:     0s"
     ]
    },
    {
     "name": "stderr",
     "output_type": "stream",
     "text": [
      "2021-05-19 21:48:14,799 - mmdet - INFO - Evaluating bbox...\n"
     ]
    },
    {
     "name": "stdout",
     "output_type": "stream",
     "text": [
      "Loading and preparing results...\n",
      "DONE (t=0.08s)\n",
      "creating index...\n",
      "index created!\n",
      "Running per image evaluation...\n",
      "Evaluate annotation type *bbox*\n",
      "DONE (t=4.61s).\n",
      "Accumulating evaluation results...\n"
     ]
    },
    {
     "name": "stderr",
     "output_type": "stream",
     "text": [
      "2021-05-19 21:48:20,143 - mmdet - INFO - Epoch(val) [14][601]\tbbox_mAP: 0.1680, bbox_mAP_50: 0.2630, bbox_mAP_75: 0.1770, bbox_mAP_s: 0.0350, bbox_mAP_m: 0.1440, bbox_mAP_l: 0.3150, bbox_mAP_copypaste: 0.168 0.263 0.177 0.035 0.144 0.315\n"
     ]
    },
    {
     "name": "stdout",
     "output_type": "stream",
     "text": [
      "DONE (t=0.59s).\n",
      "Average Precision  (AP) @[ IoU=0.50:0.95 | area=   all | maxDets=100 ] = 0.168\n",
      "Average Precision  (AP) @[ IoU=0.50      | area=   all | maxDets=1000 ] = 0.263\n",
      "Average Precision  (AP) @[ IoU=0.75      | area=   all | maxDets=1000 ] = 0.177\n",
      "Average Precision  (AP) @[ IoU=0.50:0.95 | area= small | maxDets=1000 ] = 0.035\n",
      "Average Precision  (AP) @[ IoU=0.50:0.95 | area=medium | maxDets=1000 ] = 0.144\n",
      "Average Precision  (AP) @[ IoU=0.50:0.95 | area= large | maxDets=1000 ] = 0.315\n",
      "Average Recall     (AR) @[ IoU=0.50:0.95 | area=   all | maxDets=100 ] = 0.298\n",
      "Average Recall     (AR) @[ IoU=0.50:0.95 | area=   all | maxDets=300 ] = 0.298\n",
      "Average Recall     (AR) @[ IoU=0.50:0.95 | area=   all | maxDets=1000 ] = 0.298\n",
      "Average Recall     (AR) @[ IoU=0.50:0.95 | area= small | maxDets=1000 ] = 0.131\n",
      "Average Recall     (AR) @[ IoU=0.50:0.95 | area=medium | maxDets=1000 ] = 0.273\n",
      "Average Recall     (AR) @[ IoU=0.50:0.95 | area= large | maxDets=1000 ] = 0.522\n"
     ]
    },
    {
     "name": "stderr",
     "output_type": "stream",
     "text": [
      "2021-05-19 21:49:10,030 - mmdet - INFO - Epoch [15][50/601]\tlr: 2.000e-02, eta: 0:08:41, time: 0.997, data_time: 0.053, memory: 5810, loss_rpn_cls: 0.0290, loss_rpn_bbox: 0.0289, s0.loss_cls: 0.1882, s0.acc: 93.5713, s0.loss_bbox: 0.0988, s1.loss_cls: 0.0857, s1.acc: 94.1733, s1.loss_bbox: 0.0971, s2.loss_cls: 0.0422, s2.acc: 94.4488, s2.loss_bbox: 0.0621, loss: 0.6319, grad_norm: 3.2675\n",
      "2021-05-19 21:49:57,494 - mmdet - INFO - Epoch [15][100/601]\tlr: 2.000e-02, eta: 0:07:53, time: 0.949, data_time: 0.008, memory: 5810, loss_rpn_cls: 0.0334, loss_rpn_bbox: 0.0276, s0.loss_cls: 0.2021, s0.acc: 93.1230, s0.loss_bbox: 0.1066, s1.loss_cls: 0.0919, s1.acc: 93.7867, s1.loss_bbox: 0.0997, s2.loss_cls: 0.0450, s2.acc: 93.9069, s2.loss_bbox: 0.0619, loss: 0.6683, grad_norm: 3.2941\n",
      "2021-05-19 21:50:44,617 - mmdet - INFO - Epoch [15][150/601]\tlr: 2.000e-02, eta: 0:07:06, time: 0.942, data_time: 0.008, memory: 5810, loss_rpn_cls: 0.0265, loss_rpn_bbox: 0.0241, s0.loss_cls: 0.1773, s0.acc: 93.9551, s0.loss_bbox: 0.0975, s1.loss_cls: 0.0822, s1.acc: 94.5443, s1.loss_bbox: 0.0944, s2.loss_cls: 0.0413, s2.acc: 94.5637, s2.loss_bbox: 0.0602, loss: 0.6035, grad_norm: 3.1521\n",
      "2021-05-19 21:51:31,526 - mmdet - INFO - Epoch [15][200/601]\tlr: 2.000e-02, eta: 0:06:19, time: 0.938, data_time: 0.008, memory: 5810, loss_rpn_cls: 0.0336, loss_rpn_bbox: 0.0277, s0.loss_cls: 0.1814, s0.acc: 93.8506, s0.loss_bbox: 0.0981, s1.loss_cls: 0.0839, s1.acc: 94.5244, s1.loss_bbox: 0.0948, s2.loss_cls: 0.0430, s2.acc: 94.4506, s2.loss_bbox: 0.0624, loss: 0.6248, grad_norm: 3.1824\n",
      "2021-05-19 21:52:18,500 - mmdet - INFO - Epoch [15][250/601]\tlr: 2.000e-02, eta: 0:05:31, time: 0.939, data_time: 0.008, memory: 5810, loss_rpn_cls: 0.0325, loss_rpn_bbox: 0.0334, s0.loss_cls: 0.1871, s0.acc: 93.5303, s0.loss_bbox: 0.0978, s1.loss_cls: 0.0848, s1.acc: 94.2519, s1.loss_bbox: 0.0921, s2.loss_cls: 0.0428, s2.acc: 94.2918, s2.loss_bbox: 0.0605, loss: 0.6309, grad_norm: 3.2518\n",
      "2021-05-19 21:53:06,061 - mmdet - INFO - Epoch [15][300/601]\tlr: 2.000e-02, eta: 0:04:44, time: 0.951, data_time: 0.008, memory: 5810, loss_rpn_cls: 0.0307, loss_rpn_bbox: 0.0279, s0.loss_cls: 0.1801, s0.acc: 93.6992, s0.loss_bbox: 0.0979, s1.loss_cls: 0.0841, s1.acc: 94.2839, s1.loss_bbox: 0.0962, s2.loss_cls: 0.0424, s2.acc: 94.2418, s2.loss_bbox: 0.0605, loss: 0.6199, grad_norm: 3.4372\n",
      "2021-05-19 21:53:53,021 - mmdet - INFO - Epoch [15][350/601]\tlr: 2.000e-02, eta: 0:03:57, time: 0.939, data_time: 0.008, memory: 5810, loss_rpn_cls: 0.0399, loss_rpn_bbox: 0.0362, s0.loss_cls: 0.2088, s0.acc: 92.8271, s0.loss_bbox: 0.1067, s1.loss_cls: 0.0952, s1.acc: 93.5496, s1.loss_bbox: 0.1003, s2.loss_cls: 0.0480, s2.acc: 93.6239, s2.loss_bbox: 0.0654, loss: 0.7007, grad_norm: 3.5687\n",
      "2021-05-19 21:54:40,307 - mmdet - INFO - Epoch [15][400/601]\tlr: 2.000e-02, eta: 0:03:10, time: 0.946, data_time: 0.008, memory: 5810, loss_rpn_cls: 0.0358, loss_rpn_bbox: 0.0278, s0.loss_cls: 0.2006, s0.acc: 93.2744, s0.loss_bbox: 0.1026, s1.loss_cls: 0.0922, s1.acc: 93.9048, s1.loss_bbox: 0.0943, s2.loss_cls: 0.0451, s2.acc: 94.0079, s2.loss_bbox: 0.0608, loss: 0.6592, grad_norm: 3.3104\n",
      "2021-05-19 21:55:27,329 - mmdet - INFO - Epoch [15][450/601]\tlr: 2.000e-02, eta: 0:02:22, time: 0.940, data_time: 0.008, memory: 5810, loss_rpn_cls: 0.0365, loss_rpn_bbox: 0.0283, s0.loss_cls: 0.1930, s0.acc: 93.4229, s0.loss_bbox: 0.1032, s1.loss_cls: 0.0885, s1.acc: 93.9710, s1.loss_bbox: 0.0977, s2.loss_cls: 0.0437, s2.acc: 94.0805, s2.loss_bbox: 0.0607, loss: 0.6515, grad_norm: 3.3346\n",
      "2021-05-19 21:56:14,197 - mmdet - INFO - Epoch [15][500/601]\tlr: 2.000e-02, eta: 0:01:35, time: 0.937, data_time: 0.008, memory: 5810, loss_rpn_cls: 0.0385, loss_rpn_bbox: 0.0360, s0.loss_cls: 0.2077, s0.acc: 92.8809, s0.loss_bbox: 0.1174, s1.loss_cls: 0.0941, s1.acc: 93.6518, s1.loss_bbox: 0.1061, s2.loss_cls: 0.0466, s2.acc: 93.9116, s2.loss_bbox: 0.0634, loss: 0.7097, grad_norm: 3.4310\n",
      "2021-05-19 21:57:01,498 - mmdet - INFO - Epoch [15][550/601]\tlr: 2.000e-02, eta: 0:00:48, time: 0.946, data_time: 0.008, memory: 5810, loss_rpn_cls: 0.0363, loss_rpn_bbox: 0.0346, s0.loss_cls: 0.1981, s0.acc: 93.2432, s0.loss_bbox: 0.1091, s1.loss_cls: 0.0880, s1.acc: 94.0191, s1.loss_bbox: 0.1002, s2.loss_cls: 0.0434, s2.acc: 93.9367, s2.loss_bbox: 0.0629, loss: 0.6725, grad_norm: 3.8032\n",
      "2021-05-19 21:57:48,554 - mmdet - INFO - Epoch [15][600/601]\tlr: 2.000e-02, eta: 0:00:00, time: 0.941, data_time: 0.008, memory: 5810, loss_rpn_cls: 0.0388, loss_rpn_bbox: 0.0323, s0.loss_cls: 0.2095, s0.acc: 92.7627, s0.loss_bbox: 0.1082, s1.loss_cls: 0.0962, s1.acc: 93.4297, s1.loss_bbox: 0.1060, s2.loss_cls: 0.0478, s2.acc: 93.5049, s2.loss_bbox: 0.0675, loss: 0.7062, grad_norm: 3.5777\n",
      "2021-05-19 21:57:49,603 - mmdet - INFO - Saving checkpoint at 15 epochs\n"
     ]
    },
    {
     "name": "stdout",
     "output_type": "stream",
     "text": [
      "[>>>>>>>>>>>>>>>>>>>>>>>>>>>>>>] 655/655, 8.0 task/s, elapsed: 82s, ETA:     0s"
     ]
    },
    {
     "name": "stderr",
     "output_type": "stream",
     "text": [
      "2021-05-19 21:59:14,726 - mmdet - INFO - Evaluating bbox...\n"
     ]
    },
    {
     "name": "stdout",
     "output_type": "stream",
     "text": [
      "Loading and preparing results...\n",
      "DONE (t=0.64s)\n",
      "creating index...\n",
      "index created!\n",
      "Running per image evaluation...\n",
      "Evaluate annotation type *bbox*\n",
      "DONE (t=4.61s).\n",
      "Accumulating evaluation results...\n"
     ]
    },
    {
     "name": "stderr",
     "output_type": "stream",
     "text": [
      "2021-05-19 21:59:20,726 - mmdet - INFO - Epoch(val) [15][601]\tbbox_mAP: 0.1700, bbox_mAP_50: 0.2590, bbox_mAP_75: 0.1800, bbox_mAP_s: 0.0340, bbox_mAP_m: 0.1490, bbox_mAP_l: 0.3230, bbox_mAP_copypaste: 0.170 0.259 0.180 0.034 0.149 0.323\n"
     ]
    },
    {
     "name": "stdout",
     "output_type": "stream",
     "text": [
      "DONE (t=0.68s).\n",
      "Average Precision  (AP) @[ IoU=0.50:0.95 | area=   all | maxDets=100 ] = 0.170\n",
      "Average Precision  (AP) @[ IoU=0.50      | area=   all | maxDets=1000 ] = 0.259\n",
      "Average Precision  (AP) @[ IoU=0.75      | area=   all | maxDets=1000 ] = 0.180\n",
      "Average Precision  (AP) @[ IoU=0.50:0.95 | area= small | maxDets=1000 ] = 0.034\n",
      "Average Precision  (AP) @[ IoU=0.50:0.95 | area=medium | maxDets=1000 ] = 0.149\n",
      "Average Precision  (AP) @[ IoU=0.50:0.95 | area= large | maxDets=1000 ] = 0.323\n",
      "Average Recall     (AR) @[ IoU=0.50:0.95 | area=   all | maxDets=100 ] = 0.303\n",
      "Average Recall     (AR) @[ IoU=0.50:0.95 | area=   all | maxDets=300 ] = 0.303\n",
      "Average Recall     (AR) @[ IoU=0.50:0.95 | area=   all | maxDets=1000 ] = 0.303\n",
      "Average Recall     (AR) @[ IoU=0.50:0.95 | area= small | maxDets=1000 ] = 0.119\n",
      "Average Recall     (AR) @[ IoU=0.50:0.95 | area=medium | maxDets=1000 ] = 0.286\n",
      "Average Recall     (AR) @[ IoU=0.50:0.95 | area= large | maxDets=1000 ] = 0.545\n"
     ]
    },
    {
     "data": {
      "text/html": [
       "<br/>Waiting for W&B process to finish, PID 6922<br/>Program ended successfully."
      ],
      "text/plain": [
       "<IPython.core.display.HTML object>"
      ]
     },
     "metadata": {},
     "output_type": "display_data"
    },
    {
     "data": {
      "application/vnd.jupyter.widget-view+json": {
       "model_id": "",
       "version_major": 2,
       "version_minor": 0
      },
      "text/plain": [
       "VBox(children=(Label(value=' 0.00MB of 0.00MB uploaded (0.00MB deduped)\\r'), FloatProgress(value=1.0, max=1.0)…"
      ]
     },
     "metadata": {},
     "output_type": "display_data"
    },
    {
     "data": {
      "text/html": [
       "Find user logs for this run at: <code>/opt/ml/code/mmdetection_trash/wandb/run-20210519_191410-28pj7iv1/logs/debug.log</code>"
      ],
      "text/plain": [
       "<IPython.core.display.HTML object>"
      ]
     },
     "metadata": {},
     "output_type": "display_data"
    },
    {
     "data": {
      "text/html": [
       "Find internal logs for this run at: <code>/opt/ml/code/mmdetection_trash/wandb/run-20210519_191410-28pj7iv1/logs/debug-internal.log</code>"
      ],
      "text/plain": [
       "<IPython.core.display.HTML object>"
      ]
     },
     "metadata": {},
     "output_type": "display_data"
    },
    {
     "data": {
      "text/html": [
       "<h3>Run summary:</h3><br/><style>\n",
       "    table.wandb td:nth-child(1) { padding: 0 10px; text-align: right }\n",
       "    </style><table class=\"wandb\">\n",
       "<tr><td>train/loss_rpn_cls</td><td>0.03883</td></tr><tr><td>train/loss_rpn_bbox</td><td>0.03226</td></tr><tr><td>train/s0.loss_cls</td><td>0.20954</td></tr><tr><td>train/s0.acc</td><td>92.7627</td></tr><tr><td>train/s0.loss_bbox</td><td>0.10815</td></tr><tr><td>train/s1.loss_cls</td><td>0.09618</td></tr><tr><td>train/s1.acc</td><td>93.42971</td></tr><tr><td>train/s1.loss_bbox</td><td>0.10602</td></tr><tr><td>train/s2.loss_cls</td><td>0.04779</td></tr><tr><td>train/s2.acc</td><td>93.50487</td></tr><tr><td>train/s2.loss_bbox</td><td>0.06747</td></tr><tr><td>train/loss</td><td>0.70624</td></tr><tr><td>train/grad_norm</td><td>3.57769</td></tr><tr><td>learning_rate</td><td>0.02</td></tr><tr><td>momentum</td><td>0.9</td></tr><tr><td>_runtime</td><td>9910</td></tr><tr><td>_timestamp</td><td>1621461560</td></tr><tr><td>_step</td><td>9016</td></tr><tr><td>val/bbox_mAP</td><td>0.17</td></tr><tr><td>val/bbox_mAP_50</td><td>0.259</td></tr><tr><td>val/bbox_mAP_75</td><td>0.18</td></tr><tr><td>val/bbox_mAP_s</td><td>0.034</td></tr><tr><td>val/bbox_mAP_m</td><td>0.149</td></tr><tr><td>val/bbox_mAP_l</td><td>0.323</td></tr></table>"
      ],
      "text/plain": [
       "<IPython.core.display.HTML object>"
      ]
     },
     "metadata": {},
     "output_type": "display_data"
    },
    {
     "data": {
      "text/html": [
       "<h3>Run history:</h3><br/><style>\n",
       "    table.wandb td:nth-child(1) { padding: 0 10px; text-align: right }\n",
       "    </style><table class=\"wandb\">\n",
       "<tr><td>train/loss_rpn_cls</td><td>█▇▅▅▄▃▃▃▃▃▃▃▃▃▃▂▂▃▃▂▂▂▂▂▂▂▂▂▂▁▁▂▁▂▁▁▁▁▁▁</td></tr><tr><td>train/loss_rpn_bbox</td><td>▆█▆▆▆▄▃▃▃▄▃▃▃▄▄▃▂▄▄▃▄▂▃▂▄▃▁▃▁▂▁▂▂▃▂▁▂▁▁▂</td></tr><tr><td>train/s0.loss_cls</td><td>▇█▇▆▆▅▄▅▅▄▅▅▄▅▅▄▃▄▄▄▄▃▄▃▃▂▂▃▂▂▂▃▂▂▂▁▂▂▁▂</td></tr><tr><td>train/s0.acc</td><td>▃▁▁▃▂▄▅▂▃▄▃▃▄▃▃▄▅▄▄▅▅▆▄▅▅▆▆▅▇▆▆▅▇▇▆▇▆▇█▇</td></tr><tr><td>train/s0.loss_bbox</td><td>▇█▇▅▅▄▃▄▄▄▄▄▃▄▄▃▃▃▃▃▃▂▃▂▃▂▂▃▁▂▂▂▁▂▂▁▂▁▁▁</td></tr><tr><td>train/s1.loss_cls</td><td>▃████▆▅▇▇▆▇▆▆▇▇▆▄▆▆▅▅▄▅▄▄▃▃▄▂▃▃▄▂▂▃▁▃▂▁▂</td></tr><tr><td>train/s1.acc</td><td>█▃▁▂▁▃▃▁▂▂▁▂▂▂▂▃▃▂▂▃▃▄▃▄▄▅▅▃▅▅▅▄▅▆▄▆▄▆▆▅</td></tr><tr><td>train/s1.loss_bbox</td><td>▁▆█▇▇▆▅▆▆▆▆▆▅▆▆▅▅▅▅▅▅▄▅▄▅▄▃▅▃▄▄▄▃▃▄▃▄▃▃▄</td></tr><tr><td>train/s2.loss_cls</td><td>▁▅▇▇█▆▆█▇▆█▇▇█▇▇▆▇▇▆▆▅▆▆▅▅▄▆▃▄▄▅▄▄▅▃▄▃▃▄</td></tr><tr><td>train/s2.acc</td><td>█▅▃▂▂▃▃▁▂▂▁▂▂▂▂▂▃▂▂▂▂▃▃▃▃▃▄▂▄▄▄▃▄▄▃▄▄▄▅▄</td></tr><tr><td>train/s2.loss_bbox</td><td>▁▄▇██▇▇█▇▇██▇██▇█▇▇▇▇▇▇▇▇▇▆▇▆▇▇▇▆▇▇▆▇▆▆▇</td></tr><tr><td>train/loss</td><td>▆██▇▇▅▄▆▅▅▅▅▄▅▅▄▄▅▄▄▄▃▄▃▃▃▂▃▂▂▂▃▂▂▂▁▂▁▁▂</td></tr><tr><td>train/grad_norm</td><td>▄█▃▂▁▁▁▁▂▁▂▂▁▂▃▂▂▂▂▂▂▂▃▂▃▃▂▃▃▃▃▄▃▄▄▃▄▃▃▄</td></tr><tr><td>learning_rate</td><td>▁▄██████████████████████████████████████</td></tr><tr><td>momentum</td><td>▁▁▁▁▁▁▁▁▁▁▁▁▁▁▁▁▁▁▁▁▁▁▁▁▁▁▁▁▁▁▁▁▁▁▁▁▁▁▁▁</td></tr><tr><td>_runtime</td><td>▁▁▁▂▂▂▂▂▂▃▃▃▃▃▃▄▄▄▄▄▅▅▅▅▅▅▆▆▆▆▆▇▇▇▇▇▇███</td></tr><tr><td>_timestamp</td><td>▁▁▁▂▂▂▂▂▂▃▃▃▃▃▃▄▄▄▄▄▅▅▅▅▅▅▆▆▆▆▆▇▇▇▇▇▇███</td></tr><tr><td>_step</td><td>▁▁▁▂▂▂▂▂▂▃▃▃▃▃▃▄▄▄▄▄▅▅▅▅▅▅▆▆▆▆▆▇▇▇▇▇▇███</td></tr><tr><td>val/bbox_mAP</td><td>▁▄▆▆▇▇▇█████▇▇█</td></tr><tr><td>val/bbox_mAP_50</td><td>▁▅▆▆▇███████▇▇▇</td></tr><tr><td>val/bbox_mAP_75</td><td>▁▅▆▆▇▇▇█████▇▇█</td></tr><tr><td>val/bbox_mAP_s</td><td>▁▆▅▇▇▆▆██▆█▅▇▇▆</td></tr><tr><td>val/bbox_mAP_m</td><td>▁▅▆▇▇█▇███▇█▇██</td></tr><tr><td>val/bbox_mAP_l</td><td>▁▄▅▅▆▇▇█████▇▇▇</td></tr></table><br/>"
      ],
      "text/plain": [
       "<IPython.core.display.HTML object>"
      ]
     },
     "metadata": {},
     "output_type": "display_data"
    },
    {
     "data": {
      "text/html": [
       "Synced 5 W&B file(s), 0 media file(s), 0 artifact file(s) and 0 other file(s)"
      ],
      "text/plain": [
       "<IPython.core.display.HTML object>"
      ]
     },
     "metadata": {},
     "output_type": "display_data"
    },
    {
     "data": {
      "text/html": [
       "\n",
       "                    <br/>Synced <strong style=\"color:#cdcd00\">4class_plenty5</strong>: <a href=\"https://wandb.ai/bgcho96/%ED%94%84%EB%A1%9C%EC%A0%9D%ED%8A%B8%20%EC%9D%B4%EB%A6%84%20%EC%95%84%EB%AC%B4%EB%82%98/runs/28pj7iv1\" target=\"_blank\">https://wandb.ai/bgcho96/%ED%94%84%EB%A1%9C%EC%A0%9D%ED%8A%B8%20%EC%9D%B4%EB%A6%84%20%EC%95%84%EB%AC%B4%EB%82%98/runs/28pj7iv1</a><br/>\n",
       "                "
      ],
      "text/plain": [
       "<IPython.core.display.HTML object>"
      ]
     },
     "metadata": {},
     "output_type": "display_data"
    }
   ],
   "source": [
    "train_detector(model, datasets[0], cfg, distributed=False, validate=True)"
   ]
  },
  {
   "cell_type": "code",
   "execution_count": null,
   "metadata": {},
   "outputs": [],
   "source": []
  }
 ],
 "metadata": {
  "kernelspec": {
   "display_name": "Python 3",
   "language": "python",
   "name": "python3"
  },
  "language_info": {
   "codemirror_mode": {
    "name": "ipython",
    "version": 3
   },
   "file_extension": ".py",
   "mimetype": "text/x-python",
   "name": "python",
   "nbconvert_exporter": "python",
   "pygments_lexer": "ipython3",
   "version": "3.7.7"
  },
  "pycharm": {
   "stem_cell": {
    "cell_type": "raw",
    "metadata": {
     "collapsed": false
    },
    "source": []
   }
  }
 },
 "nbformat": 4,
 "nbformat_minor": 4
}
